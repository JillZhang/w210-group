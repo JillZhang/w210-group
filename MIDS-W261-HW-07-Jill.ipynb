{
 "cells": [
  {
   "cell_type": "markdown",
   "metadata": {
    "toc": true
   },
   "source": [
    "<h1>Table of Contents<span class=\"tocSkip\"></span></h1>\n",
    "<div class=\"toc\"><ul class=\"toc-item\"><li><span><a href=\"#-MIDS---w261-Machine-Learning-At-Scale-\" data-toc-modified-id=\"-MIDS---w261-Machine-Learning-At-Scale--1\"><span class=\"toc-item-num\">1&nbsp;&nbsp;</span> MIDS - w261 Machine Learning At Scale </a></span><ul class=\"toc-item\"><li><span><a href=\"#Assignment---HW7\" data-toc-modified-id=\"Assignment---HW7-1.1\"><span class=\"toc-item-num\">1.1&nbsp;&nbsp;</span>Assignment - HW7</a></span></li></ul></li><li><span><a href=\"#Instructions\" data-toc-modified-id=\"Instructions-2\"><span class=\"toc-item-num\">2&nbsp;&nbsp;</span>Instructions</a></span><ul class=\"toc-item\"><li><span><a href=\"#IMPORTANT\" data-toc-modified-id=\"IMPORTANT-2.1\"><span class=\"toc-item-num\">2.1&nbsp;&nbsp;</span>IMPORTANT</a></span><ul class=\"toc-item\"><li><span><a href=\"#===-INSTRUCTIONS-for-SUBMISSIONS-===\" data-toc-modified-id=\"===-INSTRUCTIONS-for-SUBMISSIONS-===-2.1.1\"><span class=\"toc-item-num\">2.1.1&nbsp;&nbsp;</span>=== INSTRUCTIONS for SUBMISSIONS ===</a></span></li></ul></li></ul></li><li><span><a href=\"#Dataset-Description\" data-toc-modified-id=\"Dataset-Description-3\"><span class=\"toc-item-num\">3&nbsp;&nbsp;</span>Dataset Description</a></span></li><li><span><a href=\"#General-Description\" data-toc-modified-id=\"General-Description-4\"><span class=\"toc-item-num\">4&nbsp;&nbsp;</span>General Description</a></span><ul class=\"toc-item\"><li><ul class=\"toc-item\"><li><span><a href=\"#Undirected-toy-network-dataset\" data-toc-modified-id=\"Undirected-toy-network-dataset-4.0.1\"><span class=\"toc-item-num\">4.0.1&nbsp;&nbsp;</span>Undirected toy network dataset</a></span></li><li><span><a href=\"#Directed-toy-network-dataset\" data-toc-modified-id=\"Directed-toy-network-dataset-4.0.2\"><span class=\"toc-item-num\">4.0.2&nbsp;&nbsp;</span>Directed toy network dataset</a></span></li></ul></li></ul></li><li><span><a href=\"#HW-7.0:-Shortest-path-graph-distances-(toy-networks)\" data-toc-modified-id=\"HW-7.0:-Shortest-path-graph-distances-(toy-networks)-5\"><span class=\"toc-item-num\">5&nbsp;&nbsp;</span>HW 7.0: Shortest path graph distances (toy networks)</a></span><ul class=\"toc-item\"><li><span><a href=\"#HW-7.0.1\" data-toc-modified-id=\"HW-7.0.1-5.1\"><span class=\"toc-item-num\">5.1&nbsp;&nbsp;</span>HW 7.0.1</a></span></li><li><span><a href=\"#HW-7.0.2\" data-toc-modified-id=\"HW-7.0.2-5.2\"><span class=\"toc-item-num\">5.2&nbsp;&nbsp;</span>HW 7.0.2</a></span><ul class=\"toc-item\"><li><span><a href=\"#Main-dataset-1:-NLTK-synonyms\" data-toc-modified-id=\"Main-dataset-1:-NLTK-synonyms-5.2.1\"><span class=\"toc-item-num\">5.2.1&nbsp;&nbsp;</span>Main dataset 1: NLTK synonyms</a></span></li></ul></li></ul></li><li><span><a href=\"#HW-7.1:-Exploratory-data-analysis-(NLTK-synonyms)\" data-toc-modified-id=\"HW-7.1:-Exploratory-data-analysis-(NLTK-synonyms)-6\"><span class=\"toc-item-num\">6&nbsp;&nbsp;</span>HW 7.1: Exploratory data analysis (NLTK synonyms)</a></span></li><li><span><a href=\"#HW-7.2:-Shortest-path-graph-distances-(NLTK-synonyms)\" data-toc-modified-id=\"HW-7.2:-Shortest-path-graph-distances-(NLTK-synonyms)-7\"><span class=\"toc-item-num\">7&nbsp;&nbsp;</span>HW 7.2: Shortest path graph distances (NLTK synonyms)</a></span></li><li><span><a href=\"#HW-7.3:-Exploratory-data-analysis-(Wikipedia)\" data-toc-modified-id=\"HW-7.3:-Exploratory-data-analysis-(Wikipedia)-8\"><span class=\"toc-item-num\">8&nbsp;&nbsp;</span>HW 7.3: Exploratory data analysis (Wikipedia)</a></span></li><li><span><a href=\"#HW-7.4:-Shortest-path-graph-distances-(Wikipedia)\" data-toc-modified-id=\"HW-7.4:-Shortest-path-graph-distances-(Wikipedia)-9\"><span class=\"toc-item-num\">9&nbsp;&nbsp;</span>HW 7.4: Shortest path graph distances (Wikipedia)</a></span></li><li><span><a href=\"#HW-7.5:-Conceptual-exercise:-Largest-single-source-network-distances\" data-toc-modified-id=\"HW-7.5:-Conceptual-exercise:-Largest-single-source-network-distances-10\"><span class=\"toc-item-num\">10&nbsp;&nbsp;</span>HW 7.5: Conceptual exercise: Largest single-source network distances</a></span></li><li><span><a href=\"#HW-7.5.1:-\" data-toc-modified-id=\"HW-7.5.1:--11\"><span class=\"toc-item-num\">11&nbsp;&nbsp;</span>HW 7.5.1: </a></span></li><li><span><a href=\"#HW-7.5.2:-Combiners:-OPTIONAL-\" data-toc-modified-id=\"HW-7.5.2:-Combiners:-OPTIONAL--12\"><span class=\"toc-item-num\">12&nbsp;&nbsp;</span>HW 7.5.2: Combiners: OPTIONAL </a></span></li><li><span><a href=\"#HW-7.6:-Computational-exercise:-Largest-single-source-network-distances:-OPTIONAL-\" data-toc-modified-id=\"HW-7.6:-Computational-exercise:-Largest-single-source-network-distances:-OPTIONAL--13\"><span class=\"toc-item-num\">13&nbsp;&nbsp;</span>HW 7.6: Computational exercise: Largest single-source network distances: OPTIONAL </a></span></li><li><span><a href=\"#HW-7.7:-Bellman–Ford:-OPTIONAL-\" data-toc-modified-id=\"HW-7.7:-Bellman–Ford:-OPTIONAL--14\"><span class=\"toc-item-num\">14&nbsp;&nbsp;</span>HW 7.7: Bellman–Ford: OPTIONAL </a></span></li></ul></div>"
   ]
  },
  {
   "cell_type": "markdown",
   "metadata": {},
   "source": [
    "<h1> MIDS - w261 Machine Learning At Scale </h1>\n",
    "__Course Lead:__ Dr James G. Shanahan (__email__ Jimi via  James.Shanahan _AT_ gmail.com)\n",
    "\n",
    "<h2>Assignment - HW7</h2>\n",
    "\n",
    "\n",
    "---\n",
    "__Name:__  Jill Zhang  \n",
    "__Class:__ MIDS w261 1 (Section *Your Section Goes Here*, e.g., Fall 2016 Group 1)     \n",
    "__Email:__  jill.zhang@iSchool.Berkeley.edu     \n",
    "__StudentId__  3032455973    __End of StudentId__  \n",
    "__Week:__   7\n",
    "\n",
    "__NOTE:__ please replace `1234567` with your student id above      \n",
    "__Due Time:__ HW is due the Tuesday of the following week by 8AM (West coast time). I.e., Tuesday, Mar 14, 2017 in the case of this homework. \n",
    "\n",
    "# Instructions\n",
    "\n",
    "MIDS UC Berkeley, Machine Learning at Scale   \n",
    "DATSCIW261 ASSIGNMENT #7\n",
    "\n",
    "Version 2017-3-9 \n",
    "\n",
    "\n",
    "## IMPORTANT\n",
    "\n",
    "This homework can be completed locally on your computer \n",
    "\n",
    "### === INSTRUCTIONS for SUBMISSIONS ===   \n",
    "Follow the instructions for submissions carefully.\n",
    "\n",
    "Each student has a `HW-<user>` repository for all assignments.   \n",
    "\n",
    "Click this link to enable you to create a github repo within the MIDS261 Classroom:   \n",
    "https://classroom.github.com/assignment-invitations/3b1d6c8e58351209f9dd865537111ff8   \n",
    "and follow the instructions to create a HW repo.\n",
    "\n",
    "Push the following to your HW github repo into the master branch:\n",
    "* Your local HW6 directory. Your repo file structure should look like this:\n",
    "\n",
    "```\n",
    "HW-<user>\n",
    "    --HW3\n",
    "       |__MIDS-W261-HW-03-<Student_id>.ipynb\n",
    "       |__MIDS-W261-HW-03-<Student_id>.pdf\n",
    "       |__some other hw3 file\n",
    "    --HW4\n",
    "       |__MIDS-W261-HW-04-<Student_id>.ipynb\n",
    "       |__MIDS-W261-HW-04-<Student_id>.pdf\n",
    "       |__some other hw4 file\n",
    "    etc..\n",
    "```    "
   ]
  },
  {
   "cell_type": "code",
   "execution_count": 1,
   "metadata": {
    "collapsed": false
   },
   "outputs": [
    {
     "name": "stdout",
     "output_type": "stream",
     "text": [
      "Python Version: 2.7.14 \n",
      "HDFS filesystem running at: \n",
      "\t hdfs://nn-ia.s3s.altiscale.com:8020\n"
     ]
    }
   ],
   "source": [
    "# general imports\n",
    "import os\n",
    "import re\n",
    "import sys\n",
    "import numpy as np\n",
    "import json\n",
    "import matplotlib.pyplot as plt\n",
    "\n",
    "# tell matplotlib not to open a new window\n",
    "%matplotlib inline\n",
    "\n",
    "# automatically reload modules \n",
    "%reload_ext autoreload\n",
    "%autoreload 2\n",
    "# print some configuration details for future replicability.\n",
    "print 'Python Version: %s' % (sys.version.split('|')[0])\n",
    "hdfs_conf = !hdfs getconf -confKey fs.defaultFS ### UNCOMMENT ON DOCKER\n",
    "#hdfs_conf = !hdfs getconf -confKey fs.default.name ### UNCOMMENT ON ALTISCALE\n",
    "print 'HDFS filesystem running at: \\n\\t %s' % (hdfs_conf[0])\n",
    "\n",
    "##!hdfs dfs -mkdir hw5\n",
    "\n",
    "HDFS_DIR = \"/user/root/hw5\" # eg. /user/root/hw4 \n",
    "HOME_DIR = os.getcwd() "
   ]
  },
  {
   "cell_type": "markdown",
   "metadata": {},
   "source": [
    "<h1 style=\"color:#021353;\">Dataset Description</h1>\n",
    "\n",
    "Download the dataset from: https://www.dropbox.com/sh/2c0k5adwz36lkcw/AAAAKsjQfF9uHfv-X9mCqr9wa?dl=0\n",
    "\n",
    "undirected_toy.txt - Undirected toy network dataset\n",
    "\n",
    "directed_toy.txt - Directed toy network dataset\n",
    "\n",
    "synNet/synNet.txt - a sparse representation of the synNet network in indexed form\n",
    "\n",
    "synNet/indices.txt - the same network in a lookup list of indices and words\n",
    "\n",
    "wikipedia/all-pages-indexed-out.txt - Graph of Wikipedia\n",
    "\n",
    "wikipedia/indices.txt - Page titles and page Ids\n",
    "\n",
    "wikipedia/all-pages-indexed-out.txt - network in indexed format\n",
    "\n",
    "wikipedia/all-pages-indexed-in.txt - network in indexed format\n",
    "\n",
    "wikipedia/indices.txt - network in indexed format"
   ]
  },
  {
   "cell_type": "code",
   "execution_count": 205,
   "metadata": {
    "collapsed": false,
    "scrolled": true
   },
   "outputs": [
    {
     "name": "stdout",
     "output_type": "stream",
     "text": [
      "--2018-03-11 23:20:30--  https://www.dropbox.com/sh/2c0k5adwz36lkcw/AAAL4WD5XtuHrX_nruilZ_qsa/wikipedia/all-pages-indexed-in.txt\n",
      "Resolving www.dropbox.com... 162.125.3.1, 2620:100:6018:1::a27d:301\n",
      "Connecting to www.dropbox.com|162.125.3.1|:443... connected.\n",
      "HTTP request sent, awaiting response... 302 Found\n",
      "Location: https://dl.dropboxusercontent.com/content_link/VIT0ms1tc2uYqveCeYtL3xwUHUWJPkFNbbmz4K0Zw360iIzAZJcKL3syvSofKWKZ/file [following]\n",
      "--2018-03-11 23:20:31--  https://dl.dropboxusercontent.com/content_link/VIT0ms1tc2uYqveCeYtL3xwUHUWJPkFNbbmz4K0Zw360iIzAZJcKL3syvSofKWKZ/file\n",
      "Resolving dl.dropboxusercontent.com... 162.125.3.6, 2620:100:6018:6::a27d:306\n",
      "Connecting to dl.dropboxusercontent.com|162.125.3.6|:443... connected.\n",
      "HTTP request sent, awaiting response... 200 OK\n",
      "Length: 2143300687 (2.0G) [text/plain]\n",
      "Saving to: “all-pages-indexed-in.txt”\n",
      "\n",
      "100%[====================================>] 2,143,300,687 19.2M/s   in 1m 53s  \n",
      "\n",
      "2018-03-11 23:22:25 (18.1 MB/s) - “all-pages-indexed-in.txt” saved [2143300687/2143300687]\n",
      "\n"
     ]
    }
   ],
   "source": [
    "!wget https://www.dropbox.com/sh/2c0k5adwz36lkcw/AAAL4WD5XtuHrX_nruilZ_qsa/wikipedia/all-pages-indexed-in.txt"
   ]
  },
  {
   "cell_type": "code",
   "execution_count": 212,
   "metadata": {
    "collapsed": false
   },
   "outputs": [
    {
     "name": "stdout",
     "output_type": "stream",
     "text": [
      "<!DOCTYPE html><html lang=\"en\" xmlns:fb=\"http://ogp.me/ns/fb#\" xml:lang=\"en\" class=\"media-desktop maestro\" xmlns=\"http://www.w3.org/1999/xhtml\">\r\n",
      "<head>\r\n",
      "<meta content=\"IE=edge, chrome=1\" http-equiv=\"X-UA-Compatible\" /><meta content=\"noindex, nofollow, noimageindex\" name=\"robots\" /><meta content=\"origin-when-cross-origin\" name=\"referrer\" /><link href=\"https://cfl.dropboxstatic.com/static/css/font_paper_atlas_grotesk-vflEbKJso.css\" type=\"text/css\" crossorigin=\"anonymous\" rel=\"stylesheet\" />\r\n",
      "<link href=\"https://cfl.dropboxstatic.com/static/css/maestro_layout-vflEklD7B.css\" type=\"text/css\" crossorigin=\"anonymous\" rel=\"stylesheet\" />\r\n",
      "<link href=\"https://fonts.googleapis.com/css?family=Open+Sans:100,200,300,400,600,700&amp;subset=latin,latin-ext\" type=\"text/css\" rel=\"stylesheet\" />\r\n",
      "<script type=\"text/javascript\" nonce=\"d/3yrMxgqLV1xrS5zX4L\">\r\n",
      "    var jaguarStreaming = jaguarStreaming || {};\r\n",
      "    jaguarStreaming.preloadImg = function (url) {\r\n",
      "        var img = new Image();\r\n",
      "        img.src = url;\r\n"
     ]
    }
   ],
   "source": [
    "!head all-pages-indexed-out.txt"
   ]
  },
  {
   "cell_type": "code",
   "execution_count": 213,
   "metadata": {
    "collapsed": false,
    "scrolled": true
   },
   "outputs": [
    {
     "name": "stdout",
     "output_type": "stream",
     "text": [
      "--2018-03-11 23:42:22--  https://www.dropbox.com/sh/2c0k5adwz36lkcw/AAAD7I_6kQlJtDpXZPhCfVH-a/wikipedia/all-pages-indexed-out.txt\n",
      "Resolving www.dropbox.com... 162.125.3.1, 2620:100:6018:1::a27d:301\n",
      "Connecting to www.dropbox.com|162.125.3.1|:443... connected.\n",
      "HTTP request sent, awaiting response... 302 Found\n",
      "Location: https://dl.dropboxusercontent.com/content_link/u3WGj0jxM7dviEcortJQugFZ8WUnVvZ0VfotjGHD5o0HTaKHBptV7z6OdRlGyV9x/file [following]\n",
      "--2018-03-11 23:42:22--  https://dl.dropboxusercontent.com/content_link/u3WGj0jxM7dviEcortJQugFZ8WUnVvZ0VfotjGHD5o0HTaKHBptV7z6OdRlGyV9x/file\n",
      "Resolving dl.dropboxusercontent.com... 162.125.3.6, 2620:100:6018:6::a27d:306\n",
      "Connecting to dl.dropboxusercontent.com|162.125.3.6|:443... connected.\n",
      "HTTP request sent, awaiting response... 200 OK\n",
      "Length: 2090459616 (1.9G) [text/plain]\n",
      "Saving to: “all-pages-indexed-out.txt.1”\n",
      "\n",
      "100%[====================================>] 2,090,459,616 18.2M/s   in 1m 44s  \n",
      "\n",
      "2018-03-11 23:44:08 (19.1 MB/s) - “all-pages-indexed-out.txt.1” saved [2090459616/2090459616]\n",
      "\n"
     ]
    }
   ],
   "source": [
    "!wget https://www.dropbox.com/sh/2c0k5adwz36lkcw/AAAD7I_6kQlJtDpXZPhCfVH-a/wikipedia/all-pages-indexed-out.txt"
   ]
  },
  {
   "cell_type": "code",
   "execution_count": 215,
   "metadata": {
    "collapsed": false
   },
   "outputs": [
    {
     "name": "stdout",
     "output_type": "stream",
     "text": [
      "73\t{'14417532': 1}\r\n",
      "299\t{'4214575': 1}\r\n",
      "2552\t{'15043376': 1, '13430968': 1, '13451035': 1, '7263397': 1, '13001625': 1, '13443575': 1, '13451269': 1, '13432316': 1, '11623371': 1, '15028971': 1, '13425865': 1, '15042703': 1, '5051368': 1, '9854998': 2, '13442976': 1, '13315025': 1, '2992307': 1, '1054486': 1, '1322325': 1, '13450983': 1}\r\n",
      "2570\t{'983991': 1}\r\n",
      "2616\t{'9045350': 1}\r\n",
      "2711\t{'752887': 1}\r\n",
      "2818\t{'3534183': 1}\r\n",
      "2847\t{'3797918': 1}\r\n",
      "2892\t{'2893': 1}\r\n",
      "2921\t{'5158607': 1, '6007184': 1, '14773825': 1, '11777840': 2, '9285165': 1, '6420484': 1, '14670682': 1, '7316613': 1, '7125893': 1, '14965920': 1, '14229952': 1, '9447742': 2, '1425342': 1, '11390944': 2, '5141': 1, '14928135': 2, '13636570': 3, '14687433': 1, '15105458': 1, '11656072': 1, '6420027': 1, '10898196': 1, '6416278': 1, '11497740': 2}\r\n"
     ]
    }
   ],
   "source": [
    "!head all-pages-indexed-out.txt.1"
   ]
  },
  {
   "cell_type": "markdown",
   "metadata": {},
   "source": [
    "<h1 style=\"color:#021353;\">General Description</h1>\n",
    "<div style=\"margin:10px;border-left:5px solid #eee;\">\n",
    "<pre style=\"font-family:sans-serif;background-color:transparent\">\n",
    "In this assignment you will explore networks and develop MRJob code for \n",
    "finding shortest path graph distances. To build up to large data \n",
    "you will develop your code on some very simple, toy networks.\n",
    "After this you will take your developed code forward and modify it and \n",
    "apply it to two larger datasets (performing EDA along the way).\n",
    "\n",
    "<h3>Undirected toy network dataset</h3>\n",
    "\n",
    "\n",
    "In an undirected network all links are symmetric, \n",
    "i.e., for a pair of nodes 'A' and 'B,' both of the links:\n",
    "\n",
    "A -> B and B -> A\n",
    "\n",
    "will exist. \n",
    "\n",
    "The toy data are available in a sparse (stripes) representation:\n",
    "\n",
    "(node) \\t (dictionary of links)\n",
    "\n",
    "on Dropbox - undirected_toy.txt\n",
    "\n",
    "In the dictionary, target nodes are keys, link weights are values \n",
    "(here, all weights are 1, i.e., the network is unweighted).\n",
    "\n",
    "\n",
    "<h3>Directed toy network dataset</h3>\n",
    "\n",
    "In a directed network all links are not necessarily symmetric, \n",
    "i.e., for a pair of nodes 'A' and 'B,' it is possible for only one of:\n",
    "\n",
    "A -> B or B -> A\n",
    "\n",
    "to exist. \n",
    "\n",
    "These toy data are available in a sparse (stripes) representation:\n",
    "\n",
    "(node) \\t (dictionary of links)\n",
    "\n",
    "on Dropbox - directed_toy.txt\n",
    "\n",
    "In the dictionary, target nodes are keys, link weights are values \n",
    "(here, all weights are 1, i.e., the network is unweighted).\n",
    "</pre>\n",
    "</div>"
   ]
  },
  {
   "cell_type": "markdown",
   "metadata": {},
   "source": [
    "<h1 style=\"color:#021353;\">HW 7.0: Shortest path graph distances (toy networks)</h1>"
   ]
  },
  {
   "cell_type": "code",
   "execution_count": 1,
   "metadata": {
    "collapsed": false
   },
   "outputs": [
    {
     "name": "stdout",
     "output_type": "stream",
     "text": [
      "Writing directed_toy_graph.txt\n"
     ]
    }
   ],
   "source": [
    "%%writefile directed_toy_graph.txt\n",
    "1\t{'2': 1, '6': 1}\n",
    "2\t{'1': 1, '3': 1, '4': 1}\n",
    "3\t{'2': 1, '4': 1}\n",
    "4\t{'2': 1, '5': 1}\n",
    "5\t{'1': 1, '2': 1, '4': 1}"
   ]
  },
  {
   "cell_type": "code",
   "execution_count": 33,
   "metadata": {
    "collapsed": false
   },
   "outputs": [
    {
     "name": "stdout",
     "output_type": "stream",
     "text": [
      "Overwriting undirected_toy_graph.txt\n"
     ]
    }
   ],
   "source": [
    "%%writefile undirected_toy_graph.txt\n",
    "1\t{\"2\": 1,\"5\": 1}\n",
    "2\t{\"1\": 1,\"3\": 1,\"4\": 1,\"5\": 1}\n",
    "3\t{'2': 1, '4': 1}\n",
    "4\t{'2': 1,'3': 1,'5': 1}\n",
    "5\t{'1': 1, '2': 1, '4': 1}"
   ]
  },
  {
   "cell_type": "code",
   "execution_count": 3,
   "metadata": {
    "collapsed": false
   },
   "outputs": [
    {
     "name": "stdout",
     "output_type": "stream",
     "text": [
      "Writing undirected_weighted_toy_graph.txt\n"
     ]
    }
   ],
   "source": [
    "%%writefile undirected_weighted_toy_graph.txt\n",
    "1\t{\"2\": 1, \"5\": 100}\n",
    "2\t{\"1\": 1, \"3\": 1, \"5\": 1, \"4\": 1}\n",
    "3\t{\"2\": 1, \"4\": 1}\n",
    "4\t{\"3\": 1, \"2\": 1, \"5\": 1}\n",
    "5\t{\"1\": 100, \"2\": 1, \"4\": 1, \"6\":1}\n",
    "6\t{\"5\": 1, \"7\": 1}\n",
    "7\t{\"6\": 1}"
   ]
  },
  {
   "cell_type": "code",
   "execution_count": 4,
   "metadata": {
    "collapsed": false
   },
   "outputs": [
    {
     "name": "stdout",
     "output_type": "stream",
     "text": [
      "1\t{'2': 1, '6': 1}\n",
      "2\t{'1': 1, '3': 1, '4': 1}\n",
      "3\t{'2': 1, '4': 1}\n",
      "4\t{'2': 1, '5': 1}\n",
      "5\t{'1': 1, '2': 1, '4': 1}\n",
      "----------------------------------------------------------------------------------------------------\n",
      "1\t{'2': 1,'5': 1}\n",
      "2\t{'1': 1,'3': 1,'4': 1,'5': 1}\n",
      "3\t{'2': 1, '4': 1}\n",
      "4\t{'2': 1,'3': 1,'5': 1}\n",
      "5\t{'1': 1, '2': 1, '4': 1}\n",
      "----------------------------------------------------------------------------------------------------\n",
      "1\t{\"2\": 1, \"5\": 100}\n",
      "2\t{\"1\": 1, \"3\": 1, \"5\": 1, \"4\": 1}\n",
      "3\t{\"2\": 1, \"4\": 1}\n",
      "4\t{\"3\": 1, \"2\": 1, \"5\": 1}\n",
      "5\t{\"1\": 100, \"2\": 1, \"4\": 1, \"6\":1}\n",
      "6\t{\"5\": 1, \"7\": 1}\n",
      "7\t{\"6\": 1}"
     ]
    }
   ],
   "source": [
    "!cat directed_toy_graph.txt\n",
    "print \"\\n\",\"-\"*100\n",
    "!cat undirected_toy_graph.txt\n",
    "print \"\\n\",\"-\"*100\n",
    "!cat undirected_weighted_toy_graph.txt"
   ]
  },
  {
   "cell_type": "code",
   "execution_count": 277,
   "metadata": {
    "collapsed": false
   },
   "outputs": [
    {
     "name": "stdout",
     "output_type": "stream",
     "text": [
      "Overwriting networkgraph.py\n"
     ]
    }
   ],
   "source": [
    "%%writefile networkgraph.py\n",
    "#!~/anaconda2/bin/python\n",
    "# -*- coding: utf-8 -*-\n",
    "\n",
    "from __future__ import division\n",
    "import re\n",
    "import mrjob\n",
    "import json\n",
    "import sys\n",
    "from mrjob.protocol import RawValueProtocol\n",
    "from mrjob.protocol import RawProtocol\n",
    "from mrjob.job import MRJob\n",
    "from mrjob.step import MRStep\n",
    "\n",
    "class networkgraph(MRJob):\n",
    "        # The protocols are critical. It will not work without these:\n",
    "    def steps(self):\n",
    "        JOBCONF_STEP = { \n",
    "          ######### IMPORTANT: THIS WILL HAVE NO EFFECT IN -r local MODE. MUST USE -r hadoop FOR SORTING #############\n",
    "            'mapred.reduce.tasks':14\n",
    "        }\n",
    "        return [\n",
    "                MRStep(\n",
    "                    jobconf=JOBCONF_STEP,\n",
    "                    mapper=self.mapper,\n",
    "                    combiner=self.reducer,\n",
    "                    reducer=self.reducer)\n",
    "                ]\n",
    "    #START SUDENT CODE531_STRIPES\n",
    "    def configure_options(self):\n",
    "        super(networkgraph, self).configure_options()\n",
    "        self.add_passthrough_option(\n",
    "            '--start', type='int', default='0', help='start of the node')\n",
    "        self.add_passthrough_option(\n",
    "            '--end', type='int', default='0', help='end of the search')        \n",
    "    def mapper(self,_,line):\n",
    "        key, value_list = line.strip().split('\\t')\n",
    "        key = int(key)\n",
    "        values = eval(value_list)\n",
    "        if type(values) is list:\n",
    "            node = values[0]\n",
    "            shortest_distance = values[1]\n",
    "            shortest_path = values[2]\n",
    "            visited_ind = values[3]\n",
    "        else:\n",
    "\n",
    "            #when it is the raw data\n",
    "            values = eval(value_list)\n",
    "            node = values\n",
    "            key = int(key)\n",
    "            if key == self.options.start:\n",
    "                #this is the start point\n",
    "                shortest_distance = 0\n",
    "                shortest_path = str(key)\n",
    "                visited_ind = \"V\"\n",
    "            else:\n",
    "                #these are points we haven't readin\n",
    "                shortest_distance = sys.maxint\n",
    "                shortest_path = \"undefined\"\n",
    "                visited_ind = \"U\"\n",
    "\n",
    "            \n",
    "        \n",
    "        if key == self.options.start or visited_ind == \"Q\":\n",
    "            self.increment_counter('group', 'Number_Queue_calls', 1)\n",
    "            yield key, [node, shortest_distance, shortest_path, \"V\"]\n",
    "            if node:\n",
    "                for n in node:\n",
    "                    if int(n) == self.options.end:\n",
    "                        self.increment_counter('group', 'signal_of_end', 1)\n",
    "                    yield int(n), [{} , shortest_distance + node[n], shortest_path + \"-\" +str(n) ,\"Q\"]\n",
    "        else:\n",
    "            yield key, [node , shortest_distance, shortest_path, visited_ind]\n",
    "            \n",
    "            \n",
    "    def reducer(self, key, value):\n",
    "        shortest_distance = sys.maxint\n",
    "        shortest_path = \"undefined\"\n",
    "        output_visited_ind = \"U\"\n",
    "        value_dict = None\n",
    "        for v in value:\n",
    "            \n",
    "            v_list = v\n",
    "            if not value_dict or v_list[0]:\n",
    "                value_dict = v_list[0]\n",
    "            distance = v_list[1]\n",
    "            path = v_list[2]\n",
    "            visited_ind = v_list[3]\n",
    "\n",
    "            if visited_ind == \"V\":\n",
    "    \n",
    "                shortest_distance = distance\n",
    "                shortest_path = path\n",
    "                output_visited_ind = \"V\"\n",
    "                break\n",
    "\n",
    "            else:\n",
    "                if distance < shortest_distance:\n",
    "                    \n",
    "                    shortest_distance = distance\n",
    "                    shortest_path = path\n",
    "                    output_visited_ind = \"Q\"\n",
    "            \n",
    "\n",
    "        yield key, [value_dict ,shortest_distance , shortest_path ,output_visited_ind]\n",
    "        \n",
    "  #END SUDENT CODE531_STRIPES\n",
    "if __name__ == '__main__':\n",
    "    networkgraph.run()\n",
    "# END STUDENT CODE 7.0.1"
   ]
  },
  {
   "cell_type": "code",
   "execution_count": 130,
   "metadata": {
    "collapsed": false,
    "scrolled": true
   },
   "outputs": [
    {
     "name": "stdout",
     "output_type": "stream",
     "text": [
      "3 [{u'2': 1, u'4': 1}, 9223372036854775807L, u'undefined', u'U']\n",
      "5 [{u'1': 1, u'2': 1, u'4': 1}, 9223372036854775807L, u'undefined', u'U']\n",
      "2 [{u'1': 1, u'3': 1, u'4': 1}, 1, u'1-2', u'Q']\n",
      "4 [{u'2': 1, u'5': 1}, 9223372036854775807L, u'undefined', u'U']\n",
      "1 [{u'2': 1, u'6': 1}, 0, u'1', u'V']\n",
      "6 [{}, 1, u'1-6', u'Q']\n",
      "3 [{u'2': 1, u'4': 1}, 2, u'1-2-3', u'Q']\n",
      "5 [{u'1': 1, u'2': 1, u'4': 1}, 9223372036854775807L, u'undefined', u'U']\n",
      "2 [{u'1': 1, u'3': 1, u'4': 1}, 1, u'1-2', u'V']\n",
      "4 [{u'2': 1, u'5': 1}, 2, u'1-2-4', u'Q']\n",
      "1 [{u'2': 1, u'6': 1}, 0, u'1', u'V']\n",
      "6 [{}, 1, u'1-6', u'V']\n",
      "{u'Number_Queue_calls': 2, u'signal_of_end': 1}\n"
     ]
    }
   ],
   "source": [
    "from numpy import random\n",
    "import numpy as np\n",
    "import sys\n",
    "from networkgraph import networkgraph\n",
    "\n",
    "\n",
    "input_file  = \"directed_toy_graph.txt\"\n",
    "mr_job = networkgraph(args=[input_file,'--no-output','--output-dir=result','--start=1'])\n",
    "with mr_job.make_runner() as runner: \n",
    "    runner.run()\n",
    "    for line in runner.stream_output():\n",
    "        key,value =  mr_job.parse_output_line(line)\n",
    "        print key, value\n",
    "input_file = './result/*'\n",
    "mr_job = networkgraph(args=[input_file,'--no-output','--output-dir=result','--end=4'])        \n",
    "\n",
    "while(1):\n",
    "    with mr_job.make_runner() as runner: \n",
    "        runner.run()\n",
    "        for line in runner.stream_output():\n",
    "            key,value =  mr_job.parse_output_line(line)\n",
    "            print key, value\n",
    "        print runner.counters()[0]['group']\n",
    "    \n",
    "    if len(runner.counters()[0]['group']) > 1:\n",
    "        break\n",
    "    if not runner.counters()[0]['group']:\n",
    "        print \"The find is going to stop\"\n",
    "        break\n",
    "\n"
   ]
  },
  {
   "cell_type": "code",
   "execution_count": 57,
   "metadata": {
    "collapsed": false,
    "scrolled": false
   },
   "outputs": [
    {
     "name": "stdout",
     "output_type": "stream",
     "text": [
      "3 [{u'2': 1, u'4': 1}, 9223372036854775807L, u'undefined', u'U']\n",
      "5 [{u'1': 1, u'2': 1, u'4': 1}, 1, u'15', u'Q']\n",
      "2 [{u'1': 1, u'3': 1, u'5': 1, u'4': 1}, 1, u'12', u'Q']\n",
      "4 [{u'3': 1, u'2': 1, u'5': 1}, 9223372036854775807L, u'undefined', u'U']\n",
      "1 [{u'2': 1, u'5': 1}, 0, u'1', u'V']\n",
      "3 [{u'2': 1, u'4': 1}, 2, u'123', u'Q']\n",
      "5 [{u'1': 1, u'2': 1, u'4': 1}, 1, u'15', u'V']\n",
      "2 [{u'1': 1, u'3': 1, u'5': 1, u'4': 1}, 1, u'12', u'V']\n",
      "4 [{u'3': 1, u'2': 1, u'5': 1}, 2, u'154', u'Q']\n",
      "1 [{u'2': 1, u'5': 1}, 0, u'1', u'V']\n",
      "{u'group': {u'Number_Queue_calls': 2}}\n",
      "3 [{u'2': 1, u'4': 1}, 2, u'123', u'V']\n",
      "5 [{u'1': 1, u'2': 1, u'4': 1}, 1, u'15', u'V']\n",
      "2 [{u'1': 1, u'3': 1, u'5': 1, u'4': 1}, 1, u'12', u'V']\n",
      "4 [{u'3': 1, u'2': 1, u'5': 1}, 2, u'154', u'V']\n",
      "1 [{u'2': 1, u'5': 1}, 0, u'1', u'V']\n",
      "{u'group': {u'Number_Queue_calls': 2}}\n",
      "3 [{u'2': 1, u'4': 1}, 2, u'123', u'V']\n",
      "5 [{u'1': 1, u'2': 1, u'4': 1}, 1, u'15', u'V']\n",
      "2 [{u'1': 1, u'3': 1, u'5': 1, u'4': 1}, 1, u'12', u'V']\n",
      "4 [{u'3': 1, u'2': 1, u'5': 1}, 2, u'154', u'V']\n",
      "1 [{u'2': 1, u'5': 1}, 0, u'1', u'V']\n",
      "{}\n",
      "The find is going to stop\n"
     ]
    }
   ],
   "source": [
    "\n",
    "input_file  = \"undirected_toy_graph.txt\"\n",
    "mr_job = networkgraph(args=[input_file,'--no-output','--output-dir=result-undirect','--start=1'])\n",
    "with mr_job.make_runner() as runner: \n",
    "    runner.run()\n",
    "    for line in runner.stream_output():\n",
    "        key,value =  mr_job.parse_output_line(line)\n",
    "        print key, value\n",
    "input_file = './result-undirect/*'\n",
    "mr_job = networkgraph(args=[input_file,'--no-output','--output-dir=result-undirect'])        \n",
    "\n",
    "while(1):\n",
    "    with mr_job.make_runner() as runner: \n",
    "        runner.run()\n",
    "        for line in runner.stream_output():\n",
    "            key,value =  mr_job.parse_output_line(line)\n",
    "            print key, value\n",
    "        print runner.counters()[0]\n",
    "    \n",
    "    if not runner.counters()[0]:\n",
    "        print \"The find is going to stop\"\n",
    "        break"
   ]
  },
  {
   "cell_type": "code",
   "execution_count": 315,
   "metadata": {
    "collapsed": false
   },
   "outputs": [
    {
     "name": "stdout",
     "output_type": "stream",
     "text": [
      "Overwriting weightednetworkgraph.py\n"
     ]
    }
   ],
   "source": [
    "%%writefile weightednetworkgraph.py\n",
    "#!~/anaconda2/bin/python\n",
    "# -*- coding: utf-8 -*-\n",
    "\n",
    "from __future__ import division\n",
    "import re\n",
    "import mrjob\n",
    "import json\n",
    "import sys\n",
    "from mrjob.protocol import RawValueProtocol\n",
    "from mrjob.protocol import RawProtocol\n",
    "from mrjob.job import MRJob\n",
    "from mrjob.step import MRStep\n",
    "\n",
    "class weightednetworkgraph(MRJob):\n",
    "        # The protocols are critical. It will not work without these:\n",
    "    def steps(self):\n",
    "        return [\n",
    "                MRStep(\n",
    "                    mapper=self.mapper,\n",
    "                    reducer=self.reducer)\n",
    "                ]\n",
    "    #START SUDENT CODE531_STRIPES\n",
    "    def configure_options(self):\n",
    "        super(weightednetworkgraph, self).configure_options()\n",
    "        self.add_passthrough_option(\n",
    "            '--start', type='int', default='0', help='start of the node')\n",
    "        \n",
    "    def mapper(self,_,line):\n",
    "        key, value_list = line.strip().split('\\t')\n",
    "        key = int(key)\n",
    "        values = eval(value_list)\n",
    "        if type(values) is list:\n",
    "            node = values[0]\n",
    "            shortest_distance = values[1]\n",
    "            shortest_path = values[2]\n",
    "            visited_ind = values[3]\n",
    "        else:\n",
    "\n",
    "            #when it is the raw data\n",
    "            values = eval(value_list)\n",
    "            node = values\n",
    "            key = int(key)\n",
    "            if key == self.options.start:\n",
    "                #this is the start point\n",
    "                shortest_distance = 0\n",
    "                shortest_path = str(key)\n",
    "                visited_ind = \"V\"\n",
    "            else:\n",
    "                #these are points we haven't readin\n",
    "                shortest_distance = sys.maxint\n",
    "                shortest_path = \"undefined\"\n",
    "                visited_ind = \"U\"\n",
    "\n",
    "            \n",
    "        \n",
    "        if key == self.options.start or visited_ind == \"Q\":\n",
    "            self.increment_counter('group', 'Number_Queue_calls', 1)\n",
    "            yield key, [node, shortest_distance, shortest_path, \"V\"]\n",
    "            if node:\n",
    "                for n in node:\n",
    "                    yield int(n), [{} , shortest_distance + node[n], shortest_path + \"-\" + str(n) ,\"Q\"]\n",
    "        else:\n",
    "            yield key, [node , shortest_distance, shortest_path, visited_ind]\n",
    "            \n",
    "            \n",
    "    def reducer(self, key, value):\n",
    "        shortest_distance = sys.maxint\n",
    "        shortest_path = \"undefined\"\n",
    "        output_visited_ind = \"U\"\n",
    "        value_dict = None\n",
    "        \n",
    "        for v in value:\n",
    "            \n",
    "            v_list = v\n",
    "            if not value_dict or v_list[0]:\n",
    "                value_dict = v_list[0]\n",
    "                \n",
    "            distance = v_list[1]\n",
    "            path = v_list[2]\n",
    "            visited_ind = v_list[3]\n",
    "            \n",
    "            if distance < shortest_distance:\n",
    "                shortest_distance = distance\n",
    "                shortest_path = path\n",
    "                output_visited_ind = visited_ind\n",
    "\n",
    "\n",
    "        yield key, [value_dict ,shortest_distance , shortest_path ,output_visited_ind]\n",
    "        \n",
    "  #END SUDENT CODE531_STRIPES\n",
    "if __name__ == '__main__':\n",
    "    networkgraph.run()\n",
    "# END STUDENT CODE 7.0.1"
   ]
  },
  {
   "cell_type": "code",
   "execution_count": 84,
   "metadata": {
    "collapsed": false
   },
   "outputs": [
    {
     "name": "stdout",
     "output_type": "stream",
     "text": [
      "3 [{u'2': 1, u'4': 1}, 9223372036854775807L, u'undefined', u'U']\n",
      "5 [{u'1': 100, u'2': 1, u'4': 1, u'6': 1}, 100, u'15', u'Q']\n",
      "7 [{u'6': 1}, 9223372036854775807L, u'undefined', u'U']\n",
      "2 [{u'1': 1, u'3': 1, u'5': 1, u'4': 1}, 1, u'12', u'Q']\n",
      "4 [{u'3': 1, u'2': 1, u'5': 1}, 9223372036854775807L, u'undefined', u'U']\n",
      "1 [{u'2': 1, u'5': 100}, 0, u'1', u'V']\n",
      "6 [{u'5': 1, u'7': 1}, 9223372036854775807L, u'undefined', u'U']\n",
      "3 [{u'2': 1, u'4': 1}, 2, u'123', u'Q']\n",
      "5 [{u'1': 100, u'2': 1, u'4': 1, u'6': 1}, 2, u'125', u'Q']\n",
      "7 [{u'6': 1}, 9223372036854775807L, u'undefined', u'U']\n",
      "2 [{u'1': 1, u'3': 1, u'5': 1, u'4': 1}, 1, u'12', u'V']\n",
      "4 [{u'3': 1, u'2': 1, u'5': 1}, 2, u'124', u'Q']\n",
      "1 [{u'2': 1, u'5': 100}, 0, u'1', u'V']\n",
      "6 [{u'5': 1, u'7': 1}, 101, u'156', u'Q']\n",
      "{u'group': {u'Number_Queue_calls': 2}}\n",
      "====================\n",
      "3 [{u'2': 1, u'4': 1}, 2, u'123', u'V']\n",
      "5 [{u'1': 100, u'2': 1, u'4': 1, u'6': 1}, 2, u'125', u'V']\n",
      "7 [{u'6': 1}, 102, u'1567', u'Q']\n",
      "2 [{u'1': 1, u'3': 1, u'5': 1, u'4': 1}, 1, u'12', u'V']\n",
      "4 [{u'3': 1, u'2': 1, u'5': 1}, 2, u'124', u'V']\n",
      "1 [{u'2': 1, u'5': 100}, 0, u'1', u'V']\n",
      "6 [{u'5': 1, u'7': 1}, 3, u'1256', u'Q']\n",
      "{u'group': {u'Number_Queue_calls': 4}}\n",
      "====================\n",
      "3 [{u'2': 1, u'4': 1}, 2, u'123', u'V']\n",
      "5 [{u'1': 100, u'2': 1, u'4': 1, u'6': 1}, 2, u'125', u'V']\n",
      "7 [{u'6': 1}, 4, u'12567', u'Q']\n",
      "2 [{u'1': 1, u'3': 1, u'5': 1, u'4': 1}, 1, u'12', u'V']\n",
      "4 [{u'3': 1, u'2': 1, u'5': 1}, 2, u'124', u'V']\n",
      "1 [{u'2': 1, u'5': 100}, 0, u'1', u'V']\n",
      "6 [{u'5': 1, u'7': 1}, 3, u'1256', u'V']\n",
      "{u'group': {u'Number_Queue_calls': 2}}\n",
      "====================\n",
      "3 [{u'2': 1, u'4': 1}, 2, u'123', u'V']\n",
      "5 [{u'1': 100, u'2': 1, u'4': 1, u'6': 1}, 2, u'125', u'V']\n",
      "7 [{u'6': 1}, 4, u'12567', u'V']\n",
      "2 [{u'1': 1, u'3': 1, u'5': 1, u'4': 1}, 1, u'12', u'V']\n",
      "4 [{u'3': 1, u'2': 1, u'5': 1}, 2, u'124', u'V']\n",
      "1 [{u'2': 1, u'5': 100}, 0, u'1', u'V']\n",
      "6 [{u'5': 1, u'7': 1}, 3, u'1256', u'V']\n",
      "{u'group': {u'Number_Queue_calls': 1}}\n",
      "====================\n",
      "3 [{u'2': 1, u'4': 1}, 2, u'123', u'V']\n",
      "5 [{u'1': 100, u'2': 1, u'4': 1, u'6': 1}, 2, u'125', u'V']\n",
      "7 [{u'6': 1}, 4, u'12567', u'V']\n",
      "2 [{u'1': 1, u'3': 1, u'5': 1, u'4': 1}, 1, u'12', u'V']\n",
      "4 [{u'3': 1, u'2': 1, u'5': 1}, 2, u'124', u'V']\n",
      "1 [{u'2': 1, u'5': 100}, 0, u'1', u'V']\n",
      "6 [{u'5': 1, u'7': 1}, 3, u'1256', u'V']\n",
      "{}\n",
      "====================\n",
      "The find is going to stop\n"
     ]
    }
   ],
   "source": [
    "from weightednetworkgraph import weightednetworkgraph\n",
    "input_file  = \"undirected_weighted_toy_graph.txt\"\n",
    "mr_job = weightednetworkgraph(args=[input_file,'--no-output','--output-dir=weighted','--start=1'])\n",
    "with mr_job.make_runner() as runner: \n",
    "    runner.run()\n",
    "    for line in runner.stream_output():\n",
    "        key,value =  mr_job.parse_output_line(line)\n",
    "        print key, value\n",
    "\n",
    "input_file = './weighted/*'\n",
    "mr_job = weightednetworkgraph(args=[input_file,'--no-output','--output-dir=weighted'])        \n",
    "\n",
    "while(1):\n",
    "    with mr_job.make_runner() as runner: \n",
    "        runner.run()\n",
    "        for line in runner.stream_output():\n",
    "            key,value =  mr_job.parse_output_line(line)\n",
    "            print key, value\n",
    "        print runner.counters()[0]\n",
    "        print \"=\"*20\n",
    "    \n",
    "    if not runner.counters()[0]:\n",
    "        print \"The find is going to stop\"\n",
    "        break\n"
   ]
  },
  {
   "cell_type": "markdown",
   "metadata": {},
   "source": [
    "<img src=\"http://www.candpgeneration.com/images/graphs.png\" style=\"float:left;\"/>"
   ]
  },
  {
   "cell_type": "markdown",
   "metadata": {},
   "source": [
    "## HW 7.0.2\n",
    "\n",
    "<h3>Main dataset 1: NLTK synonyms</h3>\n",
    "\n",
    "In the next part of this assignment you will explore a network derived from the NLTK synonym database used for evaluation in HW 5. At a high level, this network is undirected, defined so that there exists link between two nodes/words if the pair or words are a synonym. These data may be found at the location:\n",
    "\n",
    "synNet/synNet.txt\n",
    "\n",
    "synNet/indices.txt\n",
    "\n",
    "where synNet.txt contains a sparse representation of the network:\n",
    "\n",
    "(index) \\t (dictionary of links)\n",
    "\n",
    "in indexed form, and indices.txt contains a lookup list\n",
    "\n",
    "(word) \\t (index)\n",
    "\n",
    "of indices and words. This network is small enough for you to explore and run\n",
    "scripts locally, but will also be good for a systems test (for later) on AWS.\n",
    "\n",
    "In the dictionary, target nodes are keys, link weights are values \n",
    "(here, all weights are 1, i.e., the network is unweighted).\n",
    "</pre>\n",
    "</div>"
   ]
  },
  {
   "cell_type": "markdown",
   "metadata": {},
   "source": [
    "<h1 style=\"color:#021353;\">HW 7.1: Exploratory data analysis (NLTK synonyms)</h1>\n",
    "<div style=\"margin:10px;border-left:5px solid #eee;\">\n",
    "<pre style=\"font-family:sans-serif;background-color:transparent\">\n",
    "Using MRJob, explore the synonyms network data.\n",
    "Consider plotting the degree distribution (does it follow a power law?),\n",
    "and determine some of the key features, like:\n",
    "\n",
    "number of nodes, \n",
    "number links,\n",
    "or the average degree (i.e., the average number of links per node),\n",
    "etc...\n",
    "\n",
    "As you develop your code, please be sure to run it locally first (though on the whole dataset). \n",
    "Once you have gotten you code to run locally, deploy it on AWS as a systems test\n",
    "in preparation for our next dataset (which will require AWS).\n",
    "</pre>\n",
    "</div>"
   ]
  },
  {
   "cell_type": "code",
   "execution_count": 89,
   "metadata": {
    "collapsed": false,
    "scrolled": true
   },
   "outputs": [
    {
     "name": "stdout",
     "output_type": "stream",
     "text": [
      "A\t1\r\n",
      "As\t2\r\n",
      "a\t3\r\n",
      "as\t4\r\n",
      "AB\t5\r\n",
      "abdominal\t6\r\n",
      "AD\t7\r\n",
      "ad\t8\r\n",
      "advertising\t9\r\n",
      "AIDS\t10\r\n"
     ]
    }
   ],
   "source": [
    "!head ./SynNet/indices.txt"
   ]
  },
  {
   "cell_type": "code",
   "execution_count": 90,
   "metadata": {
    "collapsed": false
   },
   "outputs": [
    {
     "name": "stdout",
     "output_type": "stream",
     "text": [
      "1\t{'2': 1, '3': 1, '4': 1}\r\n",
      "2\t{'1': 1, '3': 1, '4': 1, '310': 1, '311': 1}\r\n",
      "3\t{'1': 1, '2': 1, '4': 1}\r\n",
      "4\t{'1': 1, '2': 1, '3': 1, '311': 1}\r\n",
      "5\t{'6': 1}\r\n",
      "6\t{'5': 1}\r\n",
      "7\t{'8': 1, '9': 1}\r\n",
      "8\t{'7': 1, '9': 1}\r\n",
      "9\t{'7': 1, '8': 1, '124': 1, '1316': 1}\r\n",
      "10\t{'11': 1, '12': 1, '13': 1, '14': 1, '15': 1, '16': 1, '17': 1}\r\n"
     ]
    }
   ],
   "source": [
    "!head ./SynNet/synNet.txt"
   ]
  },
  {
   "cell_type": "code",
   "execution_count": 111,
   "metadata": {
    "collapsed": false
   },
   "outputs": [
    {
     "name": "stdout",
     "output_type": "stream",
     "text": [
      "Overwriting wordcounts.py\n"
     ]
    }
   ],
   "source": [
    "%%writefile wordcounts.py\n",
    "#!~/anaconda2/bin/python\n",
    "# -*- coding: utf-8 -*-\n",
    "\n",
    "from __future__ import division\n",
    "import re\n",
    "import mrjob\n",
    "import json\n",
    "import sys\n",
    "from mrjob.protocol import RawValueProtocol\n",
    "from mrjob.protocol import RawProtocol\n",
    "from mrjob.job import MRJob\n",
    "from mrjob.step import MRStep\n",
    "\n",
    "class wordcounts(MRJob):\n",
    "        # The protocols are critical. It will not work without these:\n",
    "    def steps(self):\n",
    "        return [\n",
    "                MRStep(\n",
    "                    mapper=self.mapper,\n",
    "                    combiner=self.reducer,\n",
    "                    reducer=self.reducer)\n",
    "        ]\n",
    "        \n",
    "    def mapper(self,_,line):\n",
    "        key, value_list = line.strip().split('\\t')\n",
    "        key = int(key)\n",
    "        values = eval(value_list)\n",
    "        node = values\n",
    "        key = int(key)\n",
    "        yield None,1\n",
    "        yield len(node), 1\n",
    "                       \n",
    "            \n",
    "    def reducer(self, key, value):\n",
    "        \n",
    "\n",
    "        yield key, sum(value)\n",
    "        \n",
    "  #END SUDENT CODE531_STRIPES\n",
    "if __name__ == '__main__':\n",
    "    wordcounts.run()\n",
    "# END STUDENT CODE 7.0.1"
   ]
  },
  {
   "cell_type": "code",
   "execution_count": 112,
   "metadata": {
    "collapsed": false,
    "scrolled": true
   },
   "outputs": [
    {
     "name": "stdout",
     "output_type": "stream",
     "text": [
      "Using configs in /home/jillzhang/.mrjob.conf\n",
      "No configs specified for inline runner\n",
      "Running step 1 of 1...\n",
      "Creating temp directory /tmp/wordcounts.jillzhang.20180311.213743.693395\n",
      "Streaming final output from /tmp/wordcounts.jillzhang.20180311.213743.693395/output...\n",
      "Removing temp directory /tmp/wordcounts.jillzhang.20180311.213743.693395...\n"
     ]
    }
   ],
   "source": [
    "!python wordcounts.py ./SynNet/synNet.txt > wordcounts.txt"
   ]
  },
  {
   "cell_type": "code",
   "execution_count": 117,
   "metadata": {
    "collapsed": false,
    "scrolled": false
   },
   "outputs": [
    {
     "data": {
      "image/png": "[encoded data removed]",
      "text/plain": [
       "<matplotlib.figure.Figure at 0x7f7b9eaf3050>"
      ]
     },
     "metadata": {},
     "output_type": "display_data"
    }
   ],
   "source": [
    "%matplotlib inline\n",
    "import numpy as np\n",
    "import pylab as pl\n",
    "\n",
    "results_A = []\n",
    "for line in open(\"wordcounts.txt\").readlines():\n",
    "    line = line.strip()\n",
    "    X,Y = line.split(\"\\t\")\n",
    "    if X != 'null':\n",
    "        results_A.append([int(X),int(Y)])\n",
    "results_A = sorted(results_A, key=lambda x: x[0])\n",
    "items = (np.array(results_A).T)\n",
    "fig = pl.figure(figsize=(17,7))\n",
    "ax = pl.subplot(111)\n",
    "width=0.8\n",
    "ax.bar(range(len(items[0])), items[1], width=width)\n",
    "ax.set_xticks(np.arange(len(items[0])) + width/2)\n",
    "ax.set_xticklabels(items[0], rotation=90)\n",
    "\n",
    "\n",
    "\n",
    "pl.title(\"Distributions of degree lengths\")\n",
    "pl.show()"
   ]
  },
  {
   "cell_type": "markdown",
   "metadata": {},
   "source": [
    "<h1 style=\"color:#021353;\">HW 7.2: Shortest path graph distances (NLTK synonyms)</h1>\n",
    "<div style=\"margin:10px;border-left:5px solid #eee;\">\n",
    "<pre style=\"font-family:sans-serif;background-color:transparent\">\n",
    "Write (reuse your code from 7.0) an MRJob class to find shortest path graph distances, \n",
    "and apply it to the NLTK synonyms network dataset. \n",
    "\n",
    "Proof your code's function by running the job:\n",
    "\n",
    "- shortest path starting at \"walk\" (index=7827) and ending at \"make\" (index=536),\n",
    "\n",
    "and showing you code's output. Once again, your output should include the path and the distance.\n",
    "\n",
    "As you develop your code, please be sure to run it locally first (though on the whole dataset). \n",
    "Once you have gotten you code to run locally, deploy it on Altiscale as a systems test\n",
    "in preparation for our next dataset (which will require Altiscale).\n",
    "\n",
    "=====================================\n",
    "\n",
    "wikipedia\n",
    "\n",
    "wikipedia/all-pages-indexed-out.txt # Graph\n",
    "\n",
    "wikipedia/indices.txt # Page titles and page Ids\n",
    "\n",
    "For the remainder of this assignment you will explore the English Wikipedia hyperlink network.\n",
    "\n",
    "The dataset is built from the Sept. 2015 XML snapshot of English Wikipedia.\n",
    "For this directed network, a link between articles: \n",
    "\n",
    "A -> B\n",
    "\n",
    "is defined by the existence of a hyperlink in A pointing to B.\n",
    "This network also exists in the indexed format:\n",
    "\n",
    "Data: wikipedia/all-pages-indexed-out.txt\n",
    "\n",
    "Data: wikipedia/all-pages-indexed-in.txt\n",
    "\n",
    "Data: wikipedia/indices.txt\n",
    "\n",
    "but has an index with more detailed data:\n",
    "\n",
    "(article name) \\t (index) \\t (in degree) \\t (out degree)\n",
    "\n",
    "In the dictionary, target nodes are keys, link weights are values .\n",
    "Here, a weight indicates the number of time a page links to another.\n",
    "However, for the sake of this assignment, treat this an unweighted network,\n",
    "and set all weights to 1 upon data input.\n",
    "\n",
    "</pre>\n",
    "</div>"
   ]
  },
  {
   "cell_type": "code",
   "execution_count": 131,
   "metadata": {
    "collapsed": true
   },
   "outputs": [],
   "source": [
    "from networkgraph import networkgraph\n",
    "\n",
    "\n",
    "input_file  = \"./SynNet/synNet.txt\"\n",
    "mr_job = networkgraph(args=[input_file,'--no-output','--output-dir=synnet_result','--start=1827'])\n",
    "with mr_job.make_runner() as runner: \n",
    "    runner.run()\n",
    "    for line in runner.stream_output():\n",
    "        key,value =  mr_job.parse_output_line(line)\n",
    "        #print key, value\n",
    "input_file = './synnet_result/*'\n",
    "mr_job = networkgraph(args=[input_file,'--no-output','--output-dir=synnet_result','--end=536'])        \n",
    "\n",
    "while(1):\n",
    "    with mr_job.make_runner() as runner: \n",
    "        runner.run()\n",
    "        for line in runner.stream_output():\n",
    "            key,value =  mr_job.parse_output_line(line)\n",
    "            #print key, value\n",
    "        #print runner.counters()[0]['group']\n",
    "    \n",
    "    if len(runner.counters()[0]['group']) > 1:\n",
    "        break\n",
    "    if not runner.counters()[0]['group']:\n",
    "        print \"The find is going to stop\"\n",
    "        break\n"
   ]
  },
  {
   "cell_type": "code",
   "execution_count": 154,
   "metadata": {
    "collapsed": false
   },
   "outputs": [
    {
     "name": "stdout",
     "output_type": "stream",
     "text": [
      "The shortest distance is\n",
      "6\n",
      "The path is\n",
      "1827-673-665-668-949-3241-536\n"
     ]
    }
   ],
   "source": [
    "import os\n",
    "for file in os.listdir(\"./synnet_result\"):\n",
    "\n",
    "    with open(os.path.join(\"./synnet_result\", file), \"r\") as fp:\n",
    "        for line in fp:\n",
    "\n",
    "            key, value = line.strip().split(\"\\t\")\n",
    "\n",
    "            if int(key) == 536:\n",
    "                print \"The shortest distance is\"\n",
    "                print eval(value)[1]\n",
    "                print \"The path is\"\n",
    "                print eval(value)[2]"
   ]
  },
  {
   "cell_type": "code",
   "execution_count": 180,
   "metadata": {
    "collapsed": true
   },
   "outputs": [],
   "source": [
    "#The following code will run the find shortest path in network in hadoop\n",
    "\n",
    "import subprocess\n",
    "#define a command line for running hadoop command line \n",
    "def run_cmd(args_list):\n",
    "    \"\"\"\n",
    "    run linux commands\n",
    "    \"\"\"\n",
    "    # import subprocess\n",
    "    print('Running system command: {0}'.format(' '.join(args_list)))\n",
    "    proc = subprocess.Popen(args_list, stdout=subprocess.PIPE, stderr=subprocess.PIPE)\n",
    "    s_output, s_err = proc.communicate()\n",
    "    s_return =  proc.returncode\n",
    "    return s_return, s_output, s_err "
   ]
  },
  {
   "cell_type": "code",
   "execution_count": 193,
   "metadata": {
    "collapsed": false
   },
   "outputs": [
    {
     "name": "stdout",
     "output_type": "stream",
     "text": [
      "Running system command: hdfs dfs -rm -r hdfs:///user/jillzhang/hw7/synnet-test/\n",
      "Running system command: hdfs dfs -cp -f hdfs:///user/jillzhang/hw7/synnet-test/* hdfs:///user/jillzhang/hw7/temporary-input/\n",
      "Running system command: hdfs dfs -cp -f hdfs:///user/jillzhang/hw7/synnet-final/* hdfs:///user/jillzhang/hw7/temporary-input/\n",
      "Running system command: hdfs dfs -rm -r hdfs:///user/jillzhang/hw7/synnet-final/\n",
      "Running system command: hdfs dfs -cp -f hdfs:///user/jillzhang/hw7/synnet-final/* hdfs:///user/jillzhang/hw7/temporary-input/\n",
      "Running system command: hdfs dfs -rm -r hdfs:///user/jillzhang/hw7/synnet-final/\n",
      "Running system command: hdfs dfs -cp -f hdfs:///user/jillzhang/hw7/synnet-final/* hdfs:///user/jillzhang/hw7/temporary-input/\n",
      "Running system command: hdfs dfs -rm -r hdfs:///user/jillzhang/hw7/synnet-final/\n",
      "Running system command: hdfs dfs -cp -f hdfs:///user/jillzhang/hw7/synnet-final/* hdfs:///user/jillzhang/hw7/temporary-input/\n",
      "Running system command: hdfs dfs -rm -r hdfs:///user/jillzhang/hw7/synnet-final/\n"
     ]
    }
   ],
   "source": [
    "\n",
    "from networkgraph import networkgraph\n",
    "#removing existing directory if any\n",
    "(ret, out, err)= run_cmd(['hdfs', 'dfs', '-rm', '-r','hdfs:///user/jillzhang/hw7/synnet-test/'])\n",
    "input_file  = \"./SynNet/synNet.txt\"\n",
    "#running the start code, specify the start node\n",
    "mr_job = networkgraph(args=[input_file,'-r','hadoop','--no-output','--output-dir=hdfs:///user/jillzhang/hw7/synnet-test/','--start=1827'])\n",
    "with mr_job.make_runner() as runner: \n",
    "    runner.run()\n",
    "#copy the result of previous run to the destination \n",
    "(ret, out, err)= run_cmd(['hdfs', 'dfs', '-cp','-f','hdfs:///user/jillzhang/hw7/synnet-test/*','hdfs:///user/jillzhang/hw7/temporary-input/'])\n",
    "input_file = 'hdfs:///user/jillzhang/hw7/temporary-input/*'\n",
    "mr_job = networkgraph(args=[input_file,'-r','hadoop','--no-output','--output-dir=hdfs:///user/jillzhang/hw7/synnet-final/','--end=536'])        \n",
    "\n",
    "while(1):\n",
    "    #copy the result of previous run to the destination \n",
    "    (ret, out, err)= run_cmd(['hdfs', 'dfs', '-cp','-f','hdfs:///user/jillzhang/hw7/synnet-final/*','hdfs:///user/jillzhang/hw7/temporary-input/'])\n",
    "    #remove any result in the existing directory, if any\n",
    "    (ret, out, err)= run_cmd(['hdfs', 'dfs', '-rm', '-r','hdfs:///user/jillzhang/hw7/synnet-final/'])\n",
    "    with mr_job.make_runner() as runner: \n",
    "        runner.run()\n",
    "\n",
    "    if len(runner.counters()[0]['group']) > 1:\n",
    "        break\n",
    "    if not runner.counters()[0]['group']:\n",
    "        print \"The find is going to stop\"\n",
    "        break\n"
   ]
  },
  {
   "cell_type": "code",
   "execution_count": 189,
   "metadata": {
    "collapsed": true
   },
   "outputs": [],
   "source": [
    "!hdfs dfs -mkdir hdfs:///user/jillzhang/hw7/temporary-input/"
   ]
  },
  {
   "cell_type": "code",
   "execution_count": 196,
   "metadata": {
    "collapsed": true,
    "scrolled": true
   },
   "outputs": [],
   "source": [
    "!hdfs dfs -cat hdfs:///user/jillzhang/hw7/synnet-final/* > synnet_result.txt"
   ]
  },
  {
   "cell_type": "code",
   "execution_count": 197,
   "metadata": {
    "collapsed": false
   },
   "outputs": [
    {
     "name": "stdout",
     "output_type": "stream",
     "text": [
      "The shortest distance is\n",
      "6\n",
      "The path is\n",
      "1827-673-1826-4817-89-73-536\n"
     ]
    }
   ],
   "source": [
    "with open('synnet_result.txt', \"r\") as fp:\n",
    "    for line in fp:\n",
    "\n",
    "        key, value = line.strip().split(\"\\t\")\n",
    "\n",
    "        if int(key) == 536:\n",
    "            print \"The shortest distance is\"\n",
    "            print eval(value)[1]\n",
    "            print \"The path is\"\n",
    "            print eval(value)[2]"
   ]
  },
  {
   "cell_type": "markdown",
   "metadata": {},
   "source": [
    "<h1 style=\"color:#021353;\">HW 7.3: Exploratory data analysis (Wikipedia)</h1>\n",
    "<div style=\"margin:10px;border-left:5px solid #eee;\">\n",
    "<pre style=\"font-family:sans-serif;background-color:transparent\">\n",
    "Using MRJob, explore the Wikipedia network data on the AWS cloud. Reuse your code from HW 7.1---does is scale well? \n",
    "\n",
    "Be cautioned that Wikipedia is a directed network, where links are not symmetric. \n",
    "So, even though a node may be linked to, it will not appear as a primary record itself if it has no out-links. \n",
    "\n",
    "This means that you may have to ADJUST your code (depending on its design). \n",
    "\n",
    "To be sure of your code's functionality in this context, run a systems test on the directed_toy.txt network.\n",
    "</pre>\n",
    "</div>"
   ]
  },
  {
   "cell_type": "code",
   "execution_count": 216,
   "metadata": {
    "collapsed": false
   },
   "outputs": [
    {
     "name": "stdout",
     "output_type": "stream",
     "text": [
      "all-pages-indexed-in.txt\tsynnet_result\r\n",
      "all-pages-indexed-out.txt\tsynnet_result.txt\r\n",
      "all-pages-indexed-out.txt.1\tundirected_toy_graph.txt\r\n",
      "directed_toy_graph2.txt\t\tundirected_weighted_toy_graph.txt\r\n",
      "directed_toy_graph.txt\t\tweighted\r\n",
      "MIDS-W261-HW-07-TEMPLATE.ipynb\tweightednetworkgraph.py\r\n",
      "networkgraph.py\t\t\tweightednetworkgraph.pyc\r\n",
      "networkgraph.pyc\t\twikipedia?dl=0\r\n",
      "result\t\t\t\twordcounts.py\r\n",
      "result-undirect\t\t\twordcounts.txt\r\n",
      "Shortest Path Djikstra.ipynb\twordDistribution.py\r\n",
      "SynNet\t\t\t\tworddistribution.txt\r\n"
     ]
    }
   ],
   "source": [
    "!ls"
   ]
  },
  {
   "cell_type": "code",
   "execution_count": 217,
   "metadata": {
    "collapsed": true
   },
   "outputs": [
    {
     "name": "stdout",
     "output_type": "stream",
     "text": [
      "Using configs in /home/jillzhang/.mrjob.conf\n",
      "Looking for hadoop binary in /opt/hadoop/bin...\n",
      "Found hadoop binary: /opt/hadoop/bin/hadoop\n",
      "Using Hadoop version 2.7.3\n",
      "Looking for Hadoop streaming jar in /opt/hadoop...\n",
      "Found Hadoop streaming jar: /opt/hadoop/share/hadoop/tools/lib/hadoop-streaming-2.7.3.jar\n",
      "Creating temp directory /tmp/wordcounts.jillzhang.20180311.235959.997558\n",
      "Copying local files to hdfs:///user/jillzhang/tmp/mrjob/wordcounts.jillzhang.20180311.235959.997558/files/...\n",
      "Running step 1 of 1...\n",
      "  packageJobJar: [] [/opt/hadoop-2.7.3/share/hadoop/tools/lib/hadoop-streaming-2.7.3.jar] /tmp/streamjob3346077471998288764.jar tmpDir=null\n",
      "  Timeline service address: http://rm-ia.s3s.altiscale.com:8188/ws/v1/timeline/\n",
      "  Connecting to ResourceManager at rm-ia.s3s.altiscale.com/10.251.255.108:8032\n",
      "  Connecting to Application History server at rm-ia.s3s.altiscale.com/10.251.255.108:10200\n",
      "  Timeline service address: http://rm-ia.s3s.altiscale.com:8188/ws/v1/timeline/\n",
      "  Connecting to ResourceManager at rm-ia.s3s.altiscale.com/10.251.255.108:8032\n",
      "  Connecting to Application History server at rm-ia.s3s.altiscale.com/10.251.255.108:10200\n",
      "  Loaded native gpl library from the embedded binaries\n",
      "  Successfully loaded & initialized native-lzo library [hadoop-lzo rev d62701d4d05dfa6115bbaf8d9dff002df142e62d]\n",
      "  Total input paths to process : 1\n",
      "  number of splits:8\n",
      "  Submitting tokens for job: job_1509050304403_32239\n",
      "  Submitted application application_1509050304403_32239\n",
      "  The url to track the job: http://rm-ia.s3s.altiscale.com:8088/proxy/application_1509050304403_32239/\n",
      "  Running job: job_1509050304403_32239\n",
      "  Job job_1509050304403_32239 running in uber mode : false\n",
      "   map 0% reduce 0%\n",
      "   map 4% reduce 0%\n",
      "   map 6% reduce 0%\n",
      "   map 8% reduce 0%\n",
      "   map 10% reduce 0%\n",
      "   map 11% reduce 0%\n",
      "   map 13% reduce 0%\n",
      "   map 15% reduce 0%\n",
      "   map 17% reduce 0%\n",
      "   map 18% reduce 0%\n",
      "   map 19% reduce 0%\n",
      "   map 20% reduce 0%\n",
      "   map 21% reduce 0%\n",
      "   map 23% reduce 0%\n",
      "   map 24% reduce 0%\n",
      "   map 25% reduce 0%\n",
      "   map 26% reduce 0%\n",
      "   map 27% reduce 0%\n",
      "   map 28% reduce 0%\n",
      "   map 30% reduce 0%\n",
      "   map 32% reduce 0%\n",
      "   map 35% reduce 0%\n",
      "   map 37% reduce 0%\n",
      "   map 39% reduce 0%\n",
      "   map 41% reduce 0%\n",
      "   map 43% reduce 0%\n",
      "   map 46% reduce 0%\n",
      "   map 48% reduce 0%\n",
      "   map 50% reduce 0%\n",
      "   map 52% reduce 0%\n",
      "   map 54% reduce 0%\n",
      "   map 56% reduce 0%\n",
      "   map 58% reduce 0%\n",
      "   map 64% reduce 0%\n",
      "   map 66% reduce 0%\n",
      "   map 68% reduce 0%\n",
      "   map 70% reduce 0%\n",
      "   map 71% reduce 0%\n",
      "   map 96% reduce 0%\n",
      "   map 100% reduce 0%\n",
      "   map 100% reduce 100%\n",
      "  Job job_1509050304403_32239 completed successfully\n",
      "  Output directory: hdfs:///user/jillzhang/hw7/wikipedia_wordcounts/\n",
      "Counters: 49\n",
      "\tFile Input Format Counters \n",
      "\t\tBytes Read=2091377120\n",
      "\tFile Output Format Counters \n",
      "\t\tBytes Written=14768\n",
      "\tFile System Counters\n",
      "\t\tFILE: Number of bytes read=32265\n",
      "\t\tFILE: Number of bytes written=1273536\n",
      "\t\tFILE: Number of large read operations=0\n",
      "\t\tFILE: Number of read operations=0\n",
      "\t\tFILE: Number of write operations=0\n",
      "\t\tHDFS: Number of bytes read=2091378648\n",
      "\t\tHDFS: Number of bytes written=14768\n",
      "\t\tHDFS: Number of large read operations=0\n",
      "\t\tHDFS: Number of read operations=27\n",
      "\t\tHDFS: Number of write operations=2\n",
      "\tJob Counters \n",
      "\t\tLaunched map tasks=8\n",
      "\t\tLaunched reduce tasks=1\n",
      "\t\tRack-local map tasks=8\n",
      "\t\tTotal megabyte-milliseconds taken by all map tasks=1347816960\n",
      "\t\tTotal megabyte-milliseconds taken by all reduce tasks=9738240\n",
      "\t\tTotal time spent by all map tasks (ms)=877485\n",
      "\t\tTotal time spent by all maps in occupied slots (ms)=2632455\n",
      "\t\tTotal time spent by all reduce tasks (ms)=3804\n",
      "\t\tTotal time spent by all reduces in occupied slots (ms)=19020\n",
      "\t\tTotal vcore-milliseconds taken by all map tasks=877485\n",
      "\t\tTotal vcore-milliseconds taken by all reduce tasks=3804\n",
      "\tMap-Reduce Framework\n",
      "\t\tCPU time spent (ms)=850550\n",
      "\t\tCombine input records=11562580\n",
      "\t\tCombine output records=8945\n",
      "\t\tFailed Shuffles=0\n",
      "\t\tGC time elapsed (ms)=1682\n",
      "\t\tInput split bytes=1528\n",
      "\t\tMap input records=5781290\n",
      "\t\tMap output bytes=67232687\n",
      "\t\tMap output materialized bytes=49852\n",
      "\t\tMap output records=11562580\n",
      "\t\tMerged Map outputs=8\n",
      "\t\tPhysical memory (bytes) snapshot=6748049408\n",
      "\t\tReduce input groups=2063\n",
      "\t\tReduce input records=8945\n",
      "\t\tReduce output records=2063\n",
      "\t\tReduce shuffle bytes=49852\n",
      "\t\tShuffled Maps =8\n",
      "\t\tSpilled Records=17890\n",
      "\t\tTotal committed heap usage (bytes)=7571243008\n",
      "\t\tVirtual memory (bytes) snapshot=31944486912\n",
      "\tShuffle Errors\n",
      "\t\tBAD_ID=0\n",
      "\t\tCONNECTION=0\n",
      "\t\tIO_ERROR=0\n",
      "\t\tWRONG_LENGTH=0\n",
      "\t\tWRONG_MAP=0\n",
      "\t\tWRONG_REDUCE=0\n",
      "Removing HDFS temp directory hdfs:///user/jillzhang/tmp/mrjob/wordcounts.jillzhang.20180311.235959.997558...\n",
      "Removing temp directory /tmp/wordcounts.jillzhang.20180311.235959.997558...\n"
     ]
    }
   ],
   "source": [
    "!python wordcounts.py all-pages-indexed-out.txt.1 -r hadoop\\\n",
    "    --cmdenv PATH=/opt/anaconda/bin:$PATH \\\n",
    "    --no-output \\\n",
    "    --output-dir=hdfs:///user/jillzhang/hw7/wikipedia_wordcounts/"
   ]
  },
  {
   "cell_type": "code",
   "execution_count": 219,
   "metadata": {
    "collapsed": true
   },
   "outputs": [],
   "source": [
    "!hdfs dfs -cat hdfs:///user/jillzhang/hw7/wikipedia_wordcounts/* > wikipedia_wordcounts.txt"
   ]
  },
  {
   "cell_type": "code",
   "execution_count": 227,
   "metadata": {
    "collapsed": true,
    "scrolled": true
   },
   "outputs": [],
   "source": [
    "results_A = []\n",
    "\n",
    "for line in open(\"wikipedia_wordcounts.txt\").readlines():\n",
    "    line = line.strip()\n",
    "    X,Y = line.split(\"\\t\")\n",
    "    if X != 'null':\n",
    "        results_A.append([int(X),int(Y)])\n",
    "results_A = sorted(results_A, key=lambda x: x[0])\n",
    "items = (np.array(results_A).T)\n"
   ]
  },
  {
   "cell_type": "code",
   "execution_count": 252,
   "metadata": {
    "collapsed": false,
    "scrolled": false
   },
   "outputs": [
    {
     "data": {
      "image/png": "[encoded data removed]",
      "text/plain": [
       "<matplotlib.figure.Figure at 0x7f7b95d3edd0>"
      ]
     },
     "metadata": {},
     "output_type": "display_data"
    }
   ],
   "source": [
    "#pl.figure(figsize=(27,7))\n",
    "pl.figure(figsize=(17,7))\n",
    "distribution = plt.bar(items[0], items[1], color = \"b\")\n",
    "pl.ylabel('frequency')\n",
    "pl.xlabel('degree (no. of nodes)')\n",
    "pl.xlim([0, 500])\n",
    "pl.title('degree length distribution')\n",
    "\n",
    "pl.tight_layout()\n",
    "pl.show()"
   ]
  },
  {
   "cell_type": "markdown",
   "metadata": {},
   "source": [
    "<h1 style=\"color:#021353;\">HW 7.4: Shortest path graph distances (Wikipedia)</h1>\n",
    "<div style=\"margin:10px;border-left:5px solid #eee;\">\n",
    "<pre style=\"font-family:sans-serif;background-color:transparent\">\n",
    "Using MRJob, find shortest path graph distances in the Wikipedia network on the AWS cloud.\n",
    "Reuse your code from 7.2, but once again be warned of Wikipedia being a directed network.\n",
    "To be sure of your code's functionality in this context, run a systems test on the directed_toy.txt network.\n",
    "\n",
    "When running your code on the Wikipedia network, proof its function by running the job:\n",
    "\n",
    "- shortest path from \"Ireland\" (index=6176135) to \"University of California, Berkeley\" (index=13466359),\n",
    "\n",
    "and show your code's output. Show the shortest path in terms of just page IDS but also in terms of the name of page (show of your MapReduce join skills!!)\n",
    "\n",
    "Once your code is running, find some other shortest paths and report your results.\n",
    "</pre>\n",
    "</div>"
   ]
  },
  {
   "cell_type": "code",
   "execution_count": 278,
   "metadata": {
    "collapsed": false,
    "scrolled": true
   },
   "outputs": [
    {
     "name": "stdout",
     "output_type": "stream",
     "text": [
      "Running system command: hdfs dfs -rm -r hdfs:///user/jillzhang/hw7/wiki0/\n"
     ]
    }
   ],
   "source": [
    "from networkgraph import networkgraph\n",
    "#removing existing directory if any\n",
    "(ret, out, err)= run_cmd(['hdfs', 'dfs', '-rm', '-r','hdfs:///user/jillzhang/hw7/wiki0/'])\n",
    "input_file  = \"all-pages-indexed-out.txt.1\"\n",
    "#running the start code, specify the start node\n",
    "mr_job = networkgraph(args=[input_file,'-r','hadoop','--no-output','--output-dir=hdfs:///user/jillzhang/hw7/wiki0/','--start=6176135'])\n",
    "with mr_job.make_runner() as runner: \n",
    "    runner.run()\n",
    "i = 0\n",
    "while(1):\n",
    "   \n",
    "    #remove any result in the existing directory, if any\n",
    "    #copy the result of previous run to the destination \n",
    "    input_file = 'hdfs:///user/jillzhang/hw7/wiki' + str(i) + '/*'\n",
    "    i += 1\n",
    "    output_file = '--output-dir=' + 'hdfs:///user/jillzhang/hw7/wiki' + str(i) +'/'\n",
    "    args = [input_file,\n",
    "        '-r', 'hadoop',\n",
    "        '--no-output',\n",
    "        output_file,\n",
    "        '--end=13466359'\n",
    "    ]\n",
    "    mr_job = networkgraph(args)        \n",
    "\n",
    "    with mr_job.make_runner() as runner: \n",
    "        runner.run()\n",
    "\n",
    "    if len(runner.counters()[0]['group']) > 1:\n",
    "        break\n",
    "    if not runner.counters()[0]['group']:\n",
    "        print \"The find is going to stop\"\n",
    "        break"
   ]
  },
  {
   "cell_type": "code",
   "execution_count": 281,
   "metadata": {
    "collapsed": true
   },
   "outputs": [
    {
     "name": "stdout",
     "output_type": "stream",
     "text": [
      "Found 15 items\r\n",
      "-rw-r--r--   3 jillzhang users          0 2018-03-12 01:37 hdfs:/user/jillzhang/hw7/wiki1/_SUCCESS\r\n",
      "-rw-r--r--   3 jillzhang users  167300132 2018-03-12 01:37 hdfs:/user/jillzhang/hw7/wiki1/part-00000\r\n",
      "-rw-r--r--   3 jillzhang users  166437960 2018-03-12 01:37 hdfs:/user/jillzhang/hw7/wiki1/part-00001\r\n",
      "-rw-r--r--   3 jillzhang users  166251919 2018-03-12 01:37 hdfs:/user/jillzhang/hw7/wiki1/part-00002\r\n",
      "-rw-r--r--   3 jillzhang users  165642557 2018-03-12 01:37 hdfs:/user/jillzhang/hw7/wiki1/part-00003\r\n",
      "-rw-r--r--   3 jillzhang users  165547925 2018-03-12 01:37 hdfs:/user/jillzhang/hw7/wiki1/part-00004\r\n",
      "-rw-r--r--   3 jillzhang users  166434761 2018-03-12 01:37 hdfs:/user/jillzhang/hw7/wiki1/part-00005\r\n",
      "-rw-r--r--   3 jillzhang users  166336299 2018-03-12 01:37 hdfs:/user/jillzhang/hw7/wiki1/part-00006\r\n",
      "-rw-r--r--   3 jillzhang users  166044989 2018-03-12 01:37 hdfs:/user/jillzhang/hw7/wiki1/part-00007\r\n",
      "-rw-r--r--   3 jillzhang users  165621553 2018-03-12 01:37 hdfs:/user/jillzhang/hw7/wiki1/part-00008\r\n",
      "-rw-r--r--   3 jillzhang users  166005009 2018-03-12 01:37 hdfs:/user/jillzhang/hw7/wiki1/part-00009\r\n",
      "-rw-r--r--   3 jillzhang users  166273237 2018-03-12 01:37 hdfs:/user/jillzhang/hw7/wiki1/part-00010\r\n",
      "-rw-r--r--   3 jillzhang users  167036716 2018-03-12 01:37 hdfs:/user/jillzhang/hw7/wiki1/part-00011\r\n",
      "-rw-r--r--   3 jillzhang users  166751427 2018-03-12 01:37 hdfs:/user/jillzhang/hw7/wiki1/part-00012\r\n",
      "-rw-r--r--   3 jillzhang users  166662213 2018-03-12 01:37 hdfs:/user/jillzhang/hw7/wiki1/part-00013\r\n"
     ]
    }
   ],
   "source": [
    "!hdfs dfs -ls hdfs:///user/jillzhang/hw7/wiki1"
   ]
  },
  {
   "cell_type": "code",
   "execution_count": 282,
   "metadata": {
    "collapsed": false
   },
   "outputs": [
    {
     "name": "stdout",
     "output_type": "stream",
     "text": [
      "Writing findtarget.py\n"
     ]
    }
   ],
   "source": [
    "%%writefile findtarget.py\n",
    "#!~/anaconda2/bin/python\n",
    "# -*- coding: utf-8 -*-\n",
    "\n",
    "from __future__ import division\n",
    "import re\n",
    "import mrjob\n",
    "import json\n",
    "import sys\n",
    "from mrjob.protocol import RawValueProtocol\n",
    "from mrjob.protocol import RawProtocol\n",
    "from mrjob.job import MRJob\n",
    "from mrjob.step import MRStep\n",
    "\n",
    "class findtarget(MRJob):\n",
    "        # The protocols are critical. It will not work without these:\n",
    "    def steps(self):\n",
    "        return [\n",
    "                MRStep(\n",
    "                    mapper=self.mapper)\n",
    "        ]\n",
    "        \n",
    "    def mapper(self,_,line):\n",
    "        key, value = line.strip().split(\"\\t\")\n",
    "\n",
    "        if int(key) == 13466359:\n",
    "            yield key, value\n",
    "            \n",
    "        \n",
    "  #END SUDENT CODE531_STRIPES\n",
    "if __name__ == '__main__':\n",
    "    findtarget.run()\n",
    "# END STUDENT CODE 7.0.1"
   ]
  },
  {
   "cell_type": "code",
   "execution_count": 283,
   "metadata": {
    "collapsed": true
   },
   "outputs": [
    {
     "name": "stdout",
     "output_type": "stream",
     "text": [
      "Using configs in /home/jillzhang/.mrjob.conf\n",
      "Looking for hadoop binary in /opt/hadoop/bin...\n",
      "Found hadoop binary: /opt/hadoop/bin/hadoop\n",
      "Using Hadoop version 2.7.3\n",
      "Looking for Hadoop streaming jar in /opt/hadoop...\n",
      "Found Hadoop streaming jar: /opt/hadoop/share/hadoop/tools/lib/hadoop-streaming-2.7.3.jar\n",
      "Creating temp directory /tmp/findtarget.jillzhang.20180312.014715.476247\n",
      "Copying local files to hdfs:///user/jillzhang/tmp/mrjob/findtarget.jillzhang.20180312.014715.476247/files/...\n",
      "Running step 1 of 1...\n",
      "  packageJobJar: [] [/opt/hadoop-2.7.3/share/hadoop/tools/lib/hadoop-streaming-2.7.3.jar] /tmp/streamjob5599044084058747703.jar tmpDir=null\n",
      "  Timeline service address: http://rm-ia.s3s.altiscale.com:8188/ws/v1/timeline/\n",
      "  Connecting to ResourceManager at rm-ia.s3s.altiscale.com/10.251.255.108:8032\n",
      "  Connecting to Application History server at rm-ia.s3s.altiscale.com/10.251.255.108:10200\n",
      "  Timeline service address: http://rm-ia.s3s.altiscale.com:8188/ws/v1/timeline/\n",
      "  Connecting to ResourceManager at rm-ia.s3s.altiscale.com/10.251.255.108:8032\n",
      "  Connecting to Application History server at rm-ia.s3s.altiscale.com/10.251.255.108:10200\n",
      "  Loaded native gpl library from the embedded binaries\n",
      "  Successfully loaded & initialized native-lzo library [hadoop-lzo rev d62701d4d05dfa6115bbaf8d9dff002df142e62d]\n",
      "  Total input paths to process : 14\n",
      "  number of splits:14\n",
      "  Submitting tokens for job: job_1509050304403_32300\n",
      "  Submitted application application_1509050304403_32300\n",
      "  The url to track the job: http://rm-ia.s3s.altiscale.com:8088/proxy/application_1509050304403_32300/\n",
      "  Running job: job_1509050304403_32300\n",
      "  Job job_1509050304403_32300 running in uber mode : false\n",
      "   map 0% reduce 0%\n",
      "   map 33% reduce 0%\n",
      "   map 88% reduce 0%\n",
      "   map 100% reduce 0%\n",
      "  Job job_1509050304403_32300 completed successfully\n",
      "  Output directory: hdfs:///user/jillzhang/hw7/findtarget/\n",
      "Counters: 30\n",
      "\tFile Input Format Counters \n",
      "\t\tBytes Read=2328346697\n",
      "\tFile Output Format Counters \n",
      "\t\tBytes Written=11162\n",
      "\tFile System Counters\n",
      "\t\tFILE: Number of bytes read=0\n",
      "\t\tFILE: Number of bytes written=1833010\n",
      "\t\tFILE: Number of large read operations=0\n",
      "\t\tFILE: Number of read operations=0\n",
      "\t\tFILE: Number of write operations=0\n",
      "\t\tHDFS: Number of bytes read=2328348419\n",
      "\t\tHDFS: Number of bytes written=11162\n",
      "\t\tHDFS: Number of large read operations=0\n",
      "\t\tHDFS: Number of read operations=70\n",
      "\t\tHDFS: Number of write operations=28\n",
      "\tJob Counters \n",
      "\t\tLaunched map tasks=14\n",
      "\t\tRack-local map tasks=14\n",
      "\t\tTotal megabyte-milliseconds taken by all map tasks=402432000\n",
      "\t\tTotal time spent by all map tasks (ms)=262000\n",
      "\t\tTotal time spent by all maps in occupied slots (ms)=786000\n",
      "\t\tTotal time spent by all reduces in occupied slots (ms)=0\n",
      "\t\tTotal vcore-milliseconds taken by all map tasks=262000\n",
      "\tMap-Reduce Framework\n",
      "\t\tCPU time spent (ms)=95140\n",
      "\t\tFailed Shuffles=0\n",
      "\t\tGC time elapsed (ms)=3011\n",
      "\t\tInput split bytes=1722\n",
      "\t\tMap input records=5802091\n",
      "\t\tMap output records=1\n",
      "\t\tMerged Map outputs=0\n",
      "\t\tPhysical memory (bytes) snapshot=3646091264\n",
      "\t\tSpilled Records=0\n",
      "\t\tTotal committed heap usage (bytes)=4872732672\n",
      "\t\tVirtual memory (bytes) snapshot=47853424640\n",
      "Removing HDFS temp directory hdfs:///user/jillzhang/tmp/mrjob/findtarget.jillzhang.20180312.014715.476247...\n",
      "Removing temp directory /tmp/findtarget.jillzhang.20180312.014715.476247...\n"
     ]
    }
   ],
   "source": [
    "!python findtarget.py hdfs:///user/jillzhang/hw7/wiki1/* -r hadoop \\\n",
    "    --no-output\\\n",
    "    --output-dir=hdfs:///user/jillzhang/hw7/findtarget/"
   ]
  },
  {
   "cell_type": "code",
   "execution_count": 300,
   "metadata": {
    "collapsed": false
   },
   "outputs": [
    {
     "name": "stdout",
     "output_type": "stream",
     "text": [
      "The shortest distance is\n",
      "3\n",
      "The path is\n",
      "6176135-11607791-13466359\n"
     ]
    }
   ],
   "source": [
    "!hdfs dfs -cat hdfs:///user/jillzhang/hw7/findtarget/* > findtarget.txt\n",
    "with open('findtarget.txt', \"r\") as fp:\n",
    "    for line in fp:\n",
    "\n",
    "        key, value = line.strip().split(\"\\t\")\n",
    "    \n",
    "\n",
    "        print \"The shortest distance is\"\n",
    "        print eval(eval(value.replace(\"'\",\"\")))[1]\n",
    "        print \"The path is\"\n",
    "        print eval(eval(value.replace(\"'\",\"\")))[2]"
   ]
  },
  {
   "cell_type": "code",
   "execution_count": null,
   "metadata": {
    "collapsed": true
   },
   "outputs": [],
   "source": [
    " #21:47:32 -0400 2018\n",
    " #21:28:33 -0400 2018"
   ]
  },
  {
   "cell_type": "markdown",
   "metadata": {},
   "source": [
    "Job Name:\tstreamjob3940589744711395833.jar\n",
    "User Name:\tjillzhang\n",
    "Queue:\tberkeley\n",
    "State:\tSUCCEEDED\n",
    "Uberized:\tfalse\n",
    "Submitted:\tMon Mar 12 01:34:20 UTC 2018\n",
    "Started:\tMon Mar 12 01:34:28 UTC 2018\n",
    "Finished:\tMon Mar 12 01:37:57 UTC 2018\n",
    "Elapsed:\t3mins, 28sec\n",
    "Diagnostics:\t\n",
    "Average Map Time\t2mins, 25sec\n",
    "Average Shuffle Time\t10sec\n",
    "Average Merge Time\t1sec\n",
    "Average Reduce Time\t28sec"
   ]
  },
  {
   "cell_type": "markdown",
   "metadata": {},
   "source": [
    "<h1 style=\"color:#021353;\">HW 7.5: Conceptual exercise: Largest single-source network distances</h1>\n",
    "<div style=\"margin:10px;border-left:5px solid #eee;\">\n",
    "<pre style=\"font-family:sans-serif;background-color:transparent\">\n",
    "Suppose you wanted to find the largest network distance from a single source,\n",
    "i.e., a node that is the furthest (but still reachable) from a single source.\n",
    "\n",
    "How would you implement this task? \n",
    "How is this different from finding the shortest path graph distances?\n",
    "\n",
    "Is this task more difficult to implement than the shortest path distance?\n",
    "\n",
    "As you respond, please comment on program structure, runtimes, iterations, general system requirements, etc...\n",
    "</pre>\n",
    "</div>"
   ]
  },
  {
   "cell_type": "markdown",
   "metadata": {
    "collapsed": true
   },
   "source": [
    "I will implement the largest single-sourcenetwork distances by finishing searching all nodes in the graph network. \n",
    "\n",
    "The program structure is very similar to the shortest path algorithm except that the remove stop criterion is removed. The long path will be updated in each iteration. Until the queue is empty, all longest path of the nodes is reached.\n",
    "\n",
    "This is more difficult to implement the largest single-srouce network than the shortest. This is because for the largest single-source network we need to finish searching all nodes in the network. For the shortest single-source network distance, we can stop as long as we reach the targeted end nodes. The largest distance algorithm generally requires much more iterations than the shortest distance algorithm. The runtime will increases with the iterations.\n",
    "\n",
    "General system requirement: it generally requires more resources than the shortest path. We need to store the result of each iteration. When the number of iterations increases, the number of stored number of path increases.\n",
    "\n",
    "\n"
   ]
  },
  {
   "cell_type": "markdown",
   "metadata": {},
   "source": [
    "<h1 style=\"color:#021353;\">HW 7.5.1: </h1>\n",
    "<div style=\"margin:10px;border-left:5px solid #eee;\">\n",
    "<pre style=\"font-family:sans-serif;background-color:transparent\">\n",
    "Can we utilize combiners in the HW 7 to perform the shortest path implementation?\n",
    "Does order inversion help with the HW 7 shortest path implementation?\n",
    "</pre>\n",
    "</div>"
   ]
  },
  {
   "cell_type": "markdown",
   "metadata": {
    "collapsed": true
   },
   "source": [
    "Yes, because the shortest path calculation(minimum) is both associative and commutive. For each mapper output, the combiner can return the minimum path for the key and the reducer will minimum path from each combiner output. The result will be consistent regardless of the order.\n",
    "\n",
    "Order inversion will be helpful in this situation. We can rank all records with the same key by the shortest path distance and then the reducer only need to output the first record for each key."
   ]
  },
  {
   "cell_type": "markdown",
   "metadata": {},
   "source": [
    "<h1 style=\"color:#021353;\">HW 7.5.2: Combiners: OPTIONAL </h1>\n",
    "<div style=\"margin:10px;border-left:5px solid #eee;\">\n",
    "<pre style=\"font-family:sans-serif;background-color:transparent\">\n",
    "Implement combiners in the context of HW 7.5 and contrast the performance of this implementation versus the implementation with no combiners. \n",
    "\n",
    "Please report the cluster configuration and runtimes in tabular format for both experiments and comment on your findings.\n",
    "</pre>\n",
    "</div>"
   ]
  },
  {
   "cell_type": "code",
   "execution_count": 301,
   "metadata": {
    "collapsed": false
   },
   "outputs": [
    {
     "name": "stdout",
     "output_type": "stream",
     "text": [
      "Writing networkgraph2.py\n"
     ]
    }
   ],
   "source": [
    "%%writefile networkgraph2.py\n",
    "#!~/anaconda2/bin/python\n",
    "# -*- coding: utf-8 -*-\n",
    "\n",
    "from __future__ import division\n",
    "import re\n",
    "import mrjob\n",
    "import json\n",
    "import sys\n",
    "from mrjob.protocol import RawValueProtocol\n",
    "from mrjob.protocol import RawProtocol\n",
    "from mrjob.job import MRJob\n",
    "from mrjob.step import MRStep\n",
    "\n",
    "class networkgraph(MRJob):\n",
    "        # The protocols are critical. It will not work without these:\n",
    "    def steps(self):\n",
    "        JOBCONF_STEP = { \n",
    "          ######### IMPORTANT: THIS WILL HAVE NO EFFECT IN -r local MODE. MUST USE -r hadoop FOR SORTING #############\n",
    "            'mapred.reduce.tasks':14\n",
    "        }\n",
    "        return [\n",
    "                MRStep(\n",
    "                    jobconf=JOBCONF_STEP,\n",
    "                    mapper=self.mapper,\n",
    "                    reducer=self.reducer)\n",
    "                ]\n",
    "    #START SUDENT CODE531_STRIPES\n",
    "    def configure_options(self):\n",
    "        super(networkgraph, self).configure_options()\n",
    "        self.add_passthrough_option(\n",
    "            '--start', type='int', default='0', help='start of the node')\n",
    "        self.add_passthrough_option(\n",
    "            '--end', type='int', default='0', help='end of the search')        \n",
    "    def mapper(self,_,line):\n",
    "        key, value_list = line.strip().split('\\t')\n",
    "        key = int(key)\n",
    "        values = eval(value_list)\n",
    "        if type(values) is list:\n",
    "            node = values[0]\n",
    "            shortest_distance = values[1]\n",
    "            shortest_path = values[2]\n",
    "            visited_ind = values[3]\n",
    "        else:\n",
    "\n",
    "            #when it is the raw data\n",
    "            values = eval(value_list)\n",
    "            node = values\n",
    "            key = int(key)\n",
    "            if key == self.options.start:\n",
    "                #this is the start point\n",
    "                shortest_distance = 0\n",
    "                shortest_path = str(key)\n",
    "                visited_ind = \"V\"\n",
    "            else:\n",
    "                #these are points we haven't readin\n",
    "                shortest_distance = sys.maxint\n",
    "                shortest_path = \"undefined\"\n",
    "                visited_ind = \"U\"\n",
    "\n",
    "            \n",
    "        \n",
    "        if key == self.options.start or visited_ind == \"Q\":\n",
    "            self.increment_counter('group', 'Number_Queue_calls', 1)\n",
    "            yield key, [node, shortest_distance, shortest_path, \"V\"]\n",
    "            if node:\n",
    "                for n in node:\n",
    "                    if int(n) == self.options.end:\n",
    "                        self.increment_counter('group', 'signal_of_end', 1)\n",
    "                    yield int(n), [{} , shortest_distance + node[n], shortest_path + \"-\" +str(n) ,\"Q\"]\n",
    "        else:\n",
    "            yield key, [node , shortest_distance, shortest_path, visited_ind]\n",
    "            \n",
    "            \n",
    "    def reducer(self, key, value):\n",
    "        shortest_distance = sys.maxint\n",
    "        shortest_path = \"undefined\"\n",
    "        output_visited_ind = \"U\"\n",
    "        value_dict = None\n",
    "        for v in value:\n",
    "            \n",
    "            v_list = v\n",
    "            if not value_dict or v_list[0]:\n",
    "                value_dict = v_list[0]\n",
    "            distance = v_list[1]\n",
    "            path = v_list[2]\n",
    "            visited_ind = v_list[3]\n",
    "\n",
    "            if visited_ind == \"V\":\n",
    "    \n",
    "                shortest_distance = distance\n",
    "                shortest_path = path\n",
    "                output_visited_ind = \"V\"\n",
    "                break\n",
    "\n",
    "            else:\n",
    "                if distance < shortest_distance:\n",
    "                    \n",
    "                    shortest_distance = distance\n",
    "                    shortest_path = path\n",
    "                    output_visited_ind = \"Q\"\n",
    "            \n",
    "\n",
    "        yield key, [value_dict ,shortest_distance , shortest_path ,output_visited_ind]\n",
    "        \n",
    "  #END SUDENT CODE531_STRIPES\n",
    "if __name__ == '__main__':\n",
    "    networkgraph.run()\n",
    "# END STUDENT CODE 7.0.1"
   ]
  },
  {
   "cell_type": "code",
   "execution_count": 302,
   "metadata": {
    "collapsed": false
   },
   "outputs": [
    {
     "name": "stdout",
     "output_type": "stream",
     "text": [
      "Running system command: hdfs dfs -rm -r hdfs:///user/jillzhang/hw7/wiki-no-combiner-0/\n"
     ]
    }
   ],
   "source": [
    "from networkgraph2 import networkgraph\n",
    "#removing existing directory if any\n",
    "(ret, out, err)= run_cmd(['hdfs', 'dfs', '-rm', '-r','hdfs:///user/jillzhang/hw7/wiki-no-combiner-0/'])\n",
    "input_file  = \"all-pages-indexed-out.txt.1\"\n",
    "#running the start code, specify the start node\n",
    "mr_job = networkgraph(args=[input_file,'-r','hadoop','--no-output','--output-dir=hdfs:///user/jillzhang/hw7/wiki-no-combiner-0/','--start=6176135'])\n",
    "with mr_job.make_runner() as runner: \n",
    "    runner.run()\n",
    "i = 0\n",
    "while(1):\n",
    "   \n",
    "    #remove any result in the existing directory, if any\n",
    "    #copy the result of previous run to the destination \n",
    "    input_file = 'hdfs:///user/jillzhang/hw7/wiki-no-combiner-' + str(i) + '/*'\n",
    "    i += 1\n",
    "    output_file = '--output-dir=' + 'hdfs:///user/jillzhang/hw7/wiki-no-combiner-' + str(i) +'/'\n",
    "    args = [input_file,\n",
    "        '-r', 'hadoop',\n",
    "        '--no-output',\n",
    "        output_file,\n",
    "        '--end=13466359'\n",
    "    ]\n",
    "    mr_job = networkgraph(args)        \n",
    "\n",
    "    with mr_job.make_runner() as runner: \n",
    "        runner.run()\n",
    "\n",
    "    if len(runner.counters()[0]['group']) > 1:\n",
    "        break\n",
    "    if not runner.counters()[0]['group']:\n",
    "        print \"The find is going to stop\"\n",
    "        break"
   ]
  },
  {
   "cell_type": "markdown",
   "metadata": {},
   "source": [
    "<h1 style=\"color:#021353;\">HW 7.6: Computational exercise: Largest single-source network distances: OPTIONAL </h1>\n",
    "<div style=\"margin:10px;border-left:5px solid #eee;\">\n",
    "<pre style=\"font-family:sans-serif;background-color:transparent\">\n",
    "Using MRJob, write a code to find the largest graph distance and distance-maximizing nodes from a single-source.\n",
    "Test your code first on the toy networks and synonyms network to proof its function.\n",
    "</pre>\n",
    "</div>"
   ]
  },
  {
   "cell_type": "code",
   "execution_count": 306,
   "metadata": {
    "collapsed": false,
    "scrolled": true
   },
   "outputs": [
    {
     "name": "stdout",
     "output_type": "stream",
     "text": [
      "3 [{u'2': 1, u'4': 1}, 9223372036854775807L, u'undefined', u'U']\n",
      "5 [{u'1': 1, u'2': 1, u'4': 1}, 9223372036854775807L, u'undefined', u'U']\n",
      "2 [{u'1': 1, u'3': 1, u'4': 1}, 1, u'1-2', u'Q']\n",
      "4 [{u'2': 1, u'5': 1}, 9223372036854775807L, u'undefined', u'U']\n",
      "1 [{u'2': 1, u'6': 1}, 0, u'1', u'V']\n",
      "6 [{}, 1, u'1-6', u'Q']\n",
      "3 [{u'2': 1, u'4': 1}, 2, u'1-2-3', u'Q']\n",
      "5 [{u'1': 1, u'2': 1, u'4': 1}, 9223372036854775807L, u'undefined', u'U']\n",
      "2 [{u'1': 1, u'3': 1, u'4': 1}, 1, u'1-2', u'V']\n",
      "4 [{u'2': 1, u'5': 1}, 2, u'1-2-4', u'Q']\n",
      "1 [{u'2': 1, u'6': 1}, 0, u'1', u'V']\n",
      "6 [{}, 1, u'1-6', u'V']\n",
      "{u'group': {u'Number_Queue_calls': 2}}\n",
      "3 [{u'2': 1, u'4': 1}, 2, u'1-2-3', u'V']\n",
      "5 [{u'1': 1, u'2': 1, u'4': 1}, 3, u'1-2-4-5', u'Q']\n",
      "2 [{u'1': 1, u'3': 1, u'4': 1}, 1, u'1-2', u'V']\n",
      "4 [{u'2': 1, u'5': 1}, 2, u'1-2-4', u'V']\n",
      "1 [{u'2': 1, u'6': 1}, 0, u'1', u'V']\n",
      "6 [{}, 1, u'1-6', u'V']\n",
      "{u'group': {u'Number_Queue_calls': 2}}\n",
      "3 [{u'2': 1, u'4': 1}, 2, u'1-2-3', u'V']\n",
      "5 [{u'1': 1, u'2': 1, u'4': 1}, 3, u'1-2-4-5', u'V']\n",
      "2 [{u'1': 1, u'3': 1, u'4': 1}, 1, u'1-2', u'V']\n",
      "4 [{u'2': 1, u'5': 1}, 2, u'1-2-4', u'V']\n",
      "1 [{u'2': 1, u'6': 1}, 0, u'1', u'V']\n",
      "6 [{}, 1, u'1-6', u'V']\n",
      "{u'group': {u'Number_Queue_calls': 1}}\n",
      "3 [{u'2': 1, u'4': 1}, 2, u'1-2-3', u'V']\n",
      "5 [{u'1': 1, u'2': 1, u'4': 1}, 3, u'1-2-4-5', u'V']\n",
      "2 [{u'1': 1, u'3': 1, u'4': 1}, 1, u'1-2', u'V']\n",
      "4 [{u'2': 1, u'5': 1}, 2, u'1-2-4', u'V']\n",
      "1 [{u'2': 1, u'6': 1}, 0, u'1', u'V']\n",
      "6 [{}, 1, u'1-6', u'V']\n",
      "{}\n",
      "The find is going to stop\n"
     ]
    }
   ],
   "source": [
    "from networkgraph import networkgraph\n",
    "\n",
    "\n",
    "input_file  = \"directed_toy_graph.txt\"\n",
    "mr_job = networkgraph(args=[input_file,'--no-output','--output-dir=largest-result','--start=1'])\n",
    "with mr_job.make_runner() as runner: \n",
    "    runner.run()\n",
    "    for line in runner.stream_output():\n",
    "        key,value =  mr_job.parse_output_line(line)\n",
    "        print key, value\n",
    "input_file = './largest-result/*'\n",
    "mr_job = networkgraph(args=[input_file,'--no-output','--output-dir=largest-result'])        \n",
    "\n",
    "while(1):\n",
    "    with mr_job.make_runner() as runner: \n",
    "        runner.run()\n",
    "        for line in runner.stream_output():\n",
    "            key,value =  mr_job.parse_output_line(line)\n",
    "            print key, value\n",
    "        print runner.counters()[0]\n",
    "    \n",
    "\n",
    "    if not runner.counters()[0]:\n",
    "        print \"The find is going to stop\"\n",
    "        break\n"
   ]
  },
  {
   "cell_type": "code",
   "execution_count": 310,
   "metadata": {
    "collapsed": false
   },
   "outputs": [
    {
     "name": "stdout",
     "output_type": "stream",
     "text": [
      "This is iteration:  1\n",
      "This is iteration:  2\n",
      "This is iteration:  3\n",
      "This is iteration:  4\n",
      "This is iteration:  5\n",
      "This is iteration:  6\n",
      "This is iteration:  7\n",
      "This is iteration:  8\n",
      "This is iteration:  9\n",
      "This is iteration:  10\n",
      "This is iteration:  11\n",
      "This is iteration:  12\n",
      "This is iteration:  13\n",
      "The find is going to stop\n"
     ]
    }
   ],
   "source": [
    "from networkgraph import networkgraph\n",
    "\n",
    "\n",
    "input_file  = \"./SynNet/synNet.txt\"\n",
    "mr_job = networkgraph(args=[input_file,'--no-output','--output-dir=largest-synnet-result','--start=1827'])\n",
    "with mr_job.make_runner() as runner: \n",
    "    runner.run()\n",
    "    for line in runner.stream_output():\n",
    "        key,value =  mr_job.parse_output_line(line)\n",
    "        #print key, value\n",
    "input_file = './largest-synnet-result/*'\n",
    "mr_job = networkgraph(args=[input_file,'--no-output','--output-dir=largest-synnet-result'])        \n",
    "i = 0\n",
    "while(1):\n",
    "    with mr_job.make_runner() as runner: \n",
    "        runner.run()\n",
    "        i += 1\n",
    "        print \"This is iteration: \",i\n",
    "            #print key, value\n",
    "        #print runner.counters()[0]['group']\n",
    "    \n",
    "    if not runner.counters()[0]:\n",
    "        print \"The find is going to stop\"\n",
    "        break\n"
   ]
  },
  {
   "cell_type": "code",
   "execution_count": 311,
   "metadata": {
    "collapsed": false
   },
   "outputs": [
    {
     "name": "stdout",
     "output_type": "stream",
     "text": [
      "==> ./largest-synnet-result/part-00000 <==\r\n",
      "1\t[{\"3\":1,\"2\":1,\"4\":1},8,\"1827-673-678-814-4154-3258-310-2-1\",\"V\"]\r\n",
      "10\t[{\"11\":1,\"13\":1,\"12\":1,\"15\":1,\"14\":1,\"17\":1,\"16\":1},6,\"1827-673-6989-318-4557-14-10\",\"V\"]\r\n",
      "100\t[{\"3827\":1,\"2872\":1,\"2871\":1,\"2870\":1,\"2873\":1,\"2875\":1,\"2874\":1,\"3122\":1,\"2443\":1,\"617\":1,\"4647\":1,\"2441\":1,\"3722\":1,\"5550\":1,\"5336\":1,\"93\":1,\"92\":1,\"3720\":1,\"360\":1},6,\"1827-673-1823-3892-95-92-100\",\"V\"]\r\n",
      "1000\t[{\"997\":1,\"999\":1,\"1004\":1,\"1003\":1,\"1002\":1,\"1001\":1},9223372036854775807,\"undefined\",\"U\"]\r\n",
      "1001\t[{\"997\":1,\"999\":1,\"998\":1,\"1000\":1},9223372036854775807,\"undefined\",\"U\"]\r\n",
      "1002\t[{\"997\":1,\"999\":1,\"998\":1,\"1000\":1},9223372036854775807,\"undefined\",\"U\"]\r\n",
      "1003\t[{\"2095\":1,\"997\":1,\"999\":1,\"998\":1,\"1000\":1},9223372036854775807,\"undefined\",\"U\"]\r\n",
      "1004\t[{\"997\":1,\"3352\":1,\"999\":1,\"998\":1,\"1000\":1},9223372036854775807,\"undefined\",\"U\"]\r\n",
      "1005\t[{\"1006\":1,\"948\":1},6,\"1827-673-665-668-946-948-1005\",\"V\"]\r\n",
      "1006\t[{\"1005\":1,\"948\":1},6,\"1827-673-665-668-946-948-1006\",\"V\"]\r\n",
      "\r\n",
      "==> ./largest-synnet-result/part-00001 <==\r\n",
      "1179\t[{\"1180\":1},9223372036854775807,\"undefined\",\"U\"]\r\n",
      "118\t[{\"123\":1,\"117\":1,\"120\":1,\"121\":1,\"122\":1,\"116\":1,\"124\":1,\"125\":1,\"126\":1,\"127\":1,\"128\":1,\"2385\":1,\"119\":1},7,\"1827-673-678-814-275-270-117-118\",\"V\"]\r\n",
      "1180\t[{\"6460\":1,\"1179\":1,\"1181\":1},9223372036854775807,\"undefined\",\"U\"]\r\n",
      "1181\t[{\"1180\":1},9223372036854775807,\"undefined\",\"U\"]\r\n",
      "1182\t[{\"1184\":1,\"1183\":1},9,\"1827-673-677-5299-623-1678-6491-6414-1183-1182\",\"V\"]\r\n",
      "1183\t[{\"6473\":1,\"6414\":1,\"1184\":1,\"1182\":1,\"6413\":1},8,\"1827-673-677-5299-623-1678-6491-6414-1183\",\"V\"]\r\n",
      "1184\t[{\"1182\":1,\"1183\":1},9,\"1827-673-677-5299-623-1678-6491-6414-1183-1184\",\"V\"]\r\n",
      "1185\t[{\"1186\":1,\"1187\":1,\"1188\":1,\"1189\":1},7,\"1827-673-6989-1398-405-974-1187-1185\",\"V\"]\r\n",
      "1186\t[{\"1212\":1,\"1211\":1,\"1188\":1,\"1189\":1,\"6503\":1,\"1187\":1,\"1185\":1,\"6505\":1,\"6504\":1,\"3273\":1},7,\"1827-673-6989-1398-405-974-1187-1186\",\"V\"]\r\n",
      "1187\t[{\"1212\":1,\"5988\":1,\"1211\":1,\"2960\":1,\"1188\":1,\"1186\":1,\"1185\":1,\"6504\":1,\"6503\":1,\"974\":1,\"3273\":1,\"2955\":1},6,\"1827-673-6989-1398-405-974-1187\",\"V\"]\r\n",
      "\r\n",
      "==> ./largest-synnet-result/part-00002 <==\r\n",
      "1370\t[{\"3500\":1,\"3501\":1,\"3185\":1,\"3186\":1,\"3187\":1,\"1363\":1,\"3182\":1,\"1368\":1,\"1365\":1},7,\"1827-673-669-1268-3701-1366-1363-1370\",\"V\"]\r\n",
      "1371\t[{\"1372\":1},9223372036854775807,\"undefined\",\"U\"]\r\n",
      "1372\t[{\"1371\":1},9223372036854775807,\"undefined\",\"U\"]\r\n",
      "1373\t[{\"1347\":1,\"1375\":1,\"1374\":1,\"1377\":1,\"1376\":1,\"1379\":1,\"1378\":1,\"658\":1},6,\"1827-673-6989-1398-405-658-1373\",\"V\"]\r\n",
      "1374\t[{\"4303\":1,\"2727\":1,\"1347\":1,\"3656\":1,\"5416\":1,\"6288\":1,\"6289\":1,\"6284\":1,\"6285\":1,\"6286\":1,\"6287\":1,\"6280\":1,\"6281\":1,\"6282\":1,\"6283\":1,\"1373\":1,\"404\":1,\"1375\":1,\"1377\":1,\"1376\":1,\"5065\":1,\"3728\":1,\"3726\":1,\"3727\":1,\"4791\":1,\"2277\":1,\"2276\":1,\"2273\":1,\"6293\":1,\"6292\":1,\"6291\":1,\"6290\":1,\"1680\":1},5,\"1827-673-5120-317-2727-1374\",\"V\"]\r\n",
      "1375\t[{\"4303\":1,\"1347\":1,\"2882\":1,\"5416\":1,\"6288\":1,\"6289\":1,\"6285\":1,\"6286\":1,\"6287\":1,\"6280\":1,\"6281\":1,\"6282\":1,\"6283\":1,\"1373\":1,\"1374\":1,\"1377\":1,\"1376\":1,\"1379\":1,\"1378\":1,\"658\":1,\"3267\":1,\"3266\":1,\"6293\":1,\"6292\":1,\"6291\":1,\"4589\":1},6,\"1827-673-6989-1398-405-658-1375\",\"V\"]\r\n",
      "1376\t[{\"5416\":1,\"6285\":1,\"4279\":1,\"4278\":1,\"6280\":1,\"4280\":1,\"6282\":1,\"6281\":1,\"1373\":1,\"1375\":1,\"1374\":1,\"6283\":1,\"1462\":1},6,\"1827-673-5120-317-2727-1374-1376\",\"V\"]\r\n",
      "1377\t[{\"4303\":1,\"2861\":1,\"4301\":1,\"2865\":1,\"4302\":1,\"2846\":1,\"6280\":1,\"2845\":1,\"2842\":1,\"1347\":1,\"6282\":1,\"3656\":1,\"6283\":1,\"4553\":1,\"2880\":1,\"4388\":1,\"6288\":1,\"6289\":1,\"1980\":1,\"6284\":1,\"6286\":1,\"6287\":1,\"6477\":1,\"4386\":1,\"7458\":1,\"6269\":1,\"1373\":1,\"404\":1,\"1375\":1,\"1374\":1,\"6311\":1,\"1379\":1,\"3726\":1,\"2681\":1,\"2683\":1,\"2727\":1,\"8107\":1,\"4055\":1,\"1794\":1,\"5326\":1,\"5327\":1,\"3728\":1,\"5048\":1,\"5468\":1,\"7003\":1,\"3727\":1,\"4791\":1,\"2974\":1,\"6268\":1,\"4057\":1,\"4056\":1,\"6758\":1,\"2276\":1,\"6281\":1,\"1979\":1,\"6293\":1,\"6757\":1,\"6291\":1,\"6290\":1,\"5328\":1,\"1680\":1,\"2109\":1,\"1682\":1,\"4387\":1,\"6292\":1,\"2679\":1,\"1478\":1,\"376\":1},5,\"1827-673-5120-317-2727-1377\",\"V\"]\r\n",
      "1378\t[{\"5115\":1,\"5117\":1,\"5116\":1,\"3168\":1,\"3266\":1,\"4431\":1,\"6282\":1,\"6901\":1,\"3166\":1,\"6898\":1,\"959\":1,\"6327\":1,\"870\":1,\"6283\":1,\"524\":1,\"6326\":1,\"1373\":1,\"6184\":1,\"1375\":1,\"7772\":1,\"3999\":1,\"2882\":1,\"2281\":1,\"2282\":1,\"3267\":1,\"4469\":1,\"2972\":1,\"2973\":1,\"6404\":1,\"782\":1,\"2579\":1,\"2574\":1,\"2575\":1,\"2571\":1,\"4589\":1,\"1765\":1},6,\"1827-673-5120-317-316-6901-1378\",\"V\"]\r\n",
      "1379\t[{\"4303\":1,\"6288\":1,\"6289\":1,\"6286\":1,\"6287\":1,\"6293\":1,\"6292\":1,\"6291\":1,\"1347\":1,\"1373\":1,\"1375\":1,\"6282\":1,\"1377\":1,\"6283\":1},6,\"1827-673-5120-317-2727-1377-1379\",\"V\"]\r\n",
      "\r\n",
      "==> ./largest-synnet-result/part-00003 <==\r\n",
      "1525\t[{\"2477\":1,\"2476\":1,\"1615\":1,\"1612\":1,\"1613\":1,\"1524\":1,\"1519\":1},6,\"1827-673-678-814-816-1519-1525\",\"V\"]\r\n",
      "1526\t[{\"3557\":1,\"3556\":1,\"3638\":1,\"718\":1,\"3637\":1,\"219\":1,\"1524\":1,\"6744\":1,\"1519\":1,\"6743\":1},6,\"1827-673-678-814-816-3637-1526\",\"V\"]\r\n",
      "1527\t[{\"5824\":1,\"5827\":1,\"1524\":1,\"7945\":1,\"1519\":1,\"1521\":1,\"418\":1},6,\"1827-673-678-814-816-1519-1527\",\"V\"]\r\n",
      "1528\t[{\"1615\":1,\"3638\":1,\"3637\":1,\"3753\":1,\"3752\":1,\"7056\":1,\"219\":1,\"1524\":1,\"1519\":1,\"128\":1},6,\"1827-673-678-814-816-3637-1528\",\"V\"]\r\n",
      "1529\t[{\"3214\":1,\"3232\":1,\"2912\":1,\"4177\":1,\"3638\":1,\"1023\":1,\"3233\":1,\"3637\":1,\"3213\":1,\"4518\":1,\"3209\":1,\"219\":1,\"1524\":1,\"3414\":1,\"321\":1,\"1519\":1,\"6072\":1,\"6073\":1,\"1102\":1,\"1463\":1,\"6166\":1},5,\"1827-673-678-8046-3233-1529\",\"V\"]\r\n",
      "153\t[{\"3438\":1,\"4009\":1,\"152\":1,\"155\":1,\"154\":1,\"157\":1,\"156\":1,\"3431\":1,\"4011\":1,\"4010\":1,\"3437\":1,\"537\":1,\"2320\":1,\"158\":1,\"2533\":1,\"362\":1,\"1752\":1},4,\"1827-673-677-2320-153\",\"V\"]\r\n",
      "1530\t[{\"7287\":1,\"7286\":1,\"3638\":1,\"3637\":1,\"1342\":1,\"219\":1,\"176\":1,\"6149\":1,\"3009\":1,\"3555\":1,\"3554\":1,\"3553\":1,\"3552\":1,\"3551\":1,\"1524\":1,\"631\":1,\"5162\":1,\"6150\":1,\"4061\":1,\"3682\":1,\"3681\":1,\"3680\":1,\"53\":1,\"6334\":1,\"3964\":1,\"1519\":1,\"6331\":1,\"6332\":1,\"6333\":1,\"1666\":1,\"1665\":1,\"3010\":1},5,\"1827-673-1826-4891-1342-1530\",\"V\"]\r\n",
      "1531\t[{\"4468\":1,\"3638\":1,\"3637\":1,\"219\":1,\"4027\":1,\"3414\":1,\"4473\":1,\"4475\":1,\"4474\":1,\"4028\":1,\"4029\":1,\"958\":1,\"4518\":1,\"7595\":1,\"5359\":1,\"1524\":1,\"321\":1,\"2107\":1,\"1654\":1,\"5383\":1,\"3748\":1,\"3746\":1,\"3747\":1,\"4441\":1,\"1492\":1,\"1496\":1,\"4467\":1,\"967\":1,\"960\":1,\"947\":1,\"3031\":1,\"4484\":1,\"4485\":1,\"4486\":1,\"2108\":1,\"1519\":1,\"4481\":1,\"4482\":1,\"4483\":1,\"2103\":1,\"4488\":1},5,\"1827-673-6989-318-967-1531\",\"V\"]\r\n",
      "1532\t[{\"1533\":1},9223372036854775807,\"undefined\",\"U\"]\r\n",
      "1533\t[{\"1532\":1,\"7061\":1},9223372036854775807,\"undefined\",\"U\"]\r\n",
      "\r\n",
      "==> ./largest-synnet-result/part-00004 <==\r\n",
      "1683\t[{\"448\":1,\"1668\":1,\"7153\":1,\"7152\":1,\"1685\":1,\"264\":1,\"1688\":1,\"3993\":1,\"3992\":1},6,\"1827-673-5120-317-1680-3992-1683\",\"V\"]\r\n",
      "1684\t[{\"2778\":1,\"2779\":1,\"6964\":1,\"2455\":1,\"3599\":1,\"264\":1,\"3515\":1,\"3672\":1,\"722\":1,\"3671\":1,\"4833\":1,\"2781\":1,\"1980\":1,\"3250\":1,\"47\":1,\"5377\":1,\"3516\":1,\"6268\":1,\"3514\":1,\"1446\":1,\"5808\":1,\"1679\":1,\"3997\":1,\"3996\":1,\"3993\":1,\"3992\":1,\"3991\":1,\"3990\":1,\"448\":1,\"1272\":1,\"5894\":1,\"7107\":1,\"7108\":1,\"7782\":1,\"6273\":1,\"6272\":1,\"4831\":1,\"3241\":1,\"4832\":1,\"1429\":1,\"1682\":1,\"1685\":1,\"1669\":1,\"1668\":1,\"1689\":1,\"1688\":1,\"6031\":1,\"3513\":1,\"6269\":1,\"471\":1},5,\"1827-673-669-1270-5894-1684\",\"V\"]\r\n",
      "1685\t[{\"1681\":1,\"1426\":1,\"1429\":1,\"47\":1,\"1446\":1,\"1445\":1,\"404\":1,\"1678\":1,\"1679\":1,\"1690\":1,\"1674\":1,\"1675\":1,\"1676\":1,\"1677\":1,\"1670\":1,\"1671\":1,\"1672\":1,\"1673\":1,\"1669\":1,\"1092\":1,\"712\":1,\"261\":1,\"265\":1,\"264\":1,\"474\":1,\"1680\":1,\"17\":1,\"641\":1,\"536\":1,\"1683\":1,\"1682\":1,\"1684\":1,\"1687\":1,\"1686\":1,\"1689\":1,\"1688\":1},5,\"1827-673-5120-317-1680-1685\",\"V\"]\r\n",
      "1686\t[{\"4365\":1,\"4364\":1,\"17\":1,\"4363\":1,\"1685\":1,\"1687\":1,\"1688\":1},6,\"1827-673-5120-317-1680-1685-1686\",\"V\"]\r\n",
      "1687\t[{\"6003\":1,\"17\":1,\"1685\":1,\"5464\":1,\"1686\":1,\"6482\":1,\"1688\":1,\"6480\":1,\"6484\":1},6,\"1827-673-5120-317-1680-1685-1687\",\"V\"]\r\n",
      "1688\t[{\"1681\":1,\"1426\":1,\"1429\":1,\"47\":1,\"1446\":1,\"1445\":1,\"404\":1,\"1678\":1,\"1679\":1,\"1690\":1,\"1674\":1,\"1675\":1,\"1676\":1,\"1677\":1,\"1670\":1,\"1671\":1,\"1672\":1,\"1673\":1,\"474\":1,\"1092\":1,\"712\":1,\"261\":1,\"265\":1,\"264\":1,\"1680\":1,\"17\":1,\"641\":1,\"536\":1,\"1683\":1,\"1682\":1,\"1685\":1,\"1684\":1,\"1669\":1,\"1686\":1,\"1689\":1,\"1687\":1},5,\"1827-673-5120-317-1680-1688\",\"V\"]\r\n",
      "1689\t[{\"47\":1,\"44\":1,\"2118\":1,\"1872\":1,\"1684\":1,\"264\":1,\"1688\":1,\"1685\":1},6,\"1827-673-669-1270-5894-1684-1689\",\"V\"]\r\n",
      "169\t[{\"167\":1,\"168\":1},7,\"1827-673-678-3803-1652-867-167-169\",\"V\"]\r\n",
      "1690\t[{\"4579\":1,\"1685\":1,\"4580\":1,\"1688\":1},6,\"1827-673-5120-317-1680-1685-1690\",\"V\"]\r\n",
      "1691\t[{\"1243\":1,\"1692\":1},8,\"1827-673-678-3803-1652-867-291-1243-1691\",\"V\"]\r\n",
      "\r\n",
      "==> ./largest-synnet-result/part-00005 <==\r\n",
      "187\t[{\"182\":1,\"183\":1,\"186\":1,\"184\":1,\"185\":1,\"188\":1,\"189\":1},8,\"1827-673-665-668-949-5236-2434-184-187\",\"V\"]\r\n",
      "1870\t[{\"1436\":1,\"621\":1,\"7296\":1,\"7873\":1,\"7874\":1,\"1863\":1,\"3536\":1},6,\"1827-673-5120-317-5335-621-1870\",\"V\"]\r\n",
      "1871\t[{\"1876\":1,\"1877\":1,\"1874\":1,\"1875\":1,\"1872\":1,\"1873\":1,\"1496\":1},6,\"1827-673-6989-1398-405-1496-1871\",\"V\"]\r\n",
      "1872\t[{\"2727\":1,\"3671\":1,\"4679\":1,\"4680\":1,\"4681\":1,\"47\":1,\"1680\":1,\"1874\":1,\"3728\":1,\"1873\":1,\"1871\":1,\"1689\":1,\"3672\":1,\"3727\":1,\"2740\":1,\"3726\":1,\"2758\":1},5,\"1827-673-5120-317-2727-1872\",\"V\"]\r\n",
      "1873\t[{\"3914\":1,\"4680\":1,\"6808\":1,\"6809\":1,\"7298\":1,\"6807\":1,\"7297\":1,\"4681\":1,\"1876\":1,\"1877\":1,\"1874\":1,\"5383\":1,\"1872\":1,\"1496\":1,\"1871\":1,\"1875\":1,\"6229\":1,\"4488\":1},6,\"1827-673-6989-1398-405-1496-1873\",\"V\"]\r\n",
      "1874\t[{\"3914\":1,\"4680\":1,\"6808\":1,\"6809\":1,\"7298\":1,\"6807\":1,\"7297\":1,\"4681\":1,\"1876\":1,\"1877\":1,\"5383\":1,\"1872\":1,\"1873\":1,\"1496\":1,\"1871\":1,\"1875\":1,\"6229\":1,\"4488\":1},6,\"1827-673-6989-1398-405-1496-1874\",\"V\"]\r\n",
      "1875\t[{\"4680\":1,\"4681\":1,\"1871\":1,\"1874\":1,\"1873\":1,\"7420\":1},7,\"1827-673-6989-1398-405-1496-4680-1875\",\"V\"]\r\n",
      "1876\t[{\"4328\":1,\"4327\":1,\"1874\":1,\"1873\":1,\"1871\":1,\"5773\":1,\"7297\":1,\"2740\":1,\"6807\":1,\"6229\":1,\"3959\":1,\"5383\":1,\"6808\":1,\"6809\":1,\"2762\":1,\"2760\":1,\"1496\":1,\"6805\":1,\"4680\":1,\"4681\":1,\"3032\":1,\"7742\":1,\"4488\":1,\"2758\":1},6,\"1827-673-1826-6990-2741-2740-1876\",\"V\"]\r\n",
      "1877\t[{\"3914\":1,\"3913\":1,\"3912\":1,\"4680\":1,\"6809\":1,\"7298\":1,\"7297\":1,\"8032\":1,\"4681\":1,\"1874\":1,\"5212\":1,\"1873\":1,\"8019\":1,\"1871\":1,\"8017\":1,\"6633\":1},6,\"1827-673-6989-2217-8018-5212-1877\",\"V\"]\r\n",
      "1878\t[{\"1879\":1},9223372036854775807,\"undefined\",\"U\"]\r\n",
      "\r\n",
      "==> ./largest-synnet-result/part-00006 <==\r\n",
      "2107\t[{\"1263\":1,\"3599\":1,\"2845\":1,\"2842\":1,\"3031\":1,\"4027\":1,\"6455\":1,\"6456\":1,\"4473\":1,\"4475\":1,\"4474\":1,\"4028\":1,\"4029\":1,\"3214\":1,\"958\":1,\"6646\":1,\"2108\":1,\"2109\":1,\"7458\":1,\"7435\":1,\"7436\":1,\"7437\":1,\"3731\":1,\"2111\":1,\"3730\":1,\"1463\":1,\"3601\":1,\"3600\":1,\"4482\":1,\"3748\":1,\"3746\":1,\"3747\":1,\"3261\":1,\"1492\":1,\"1493\":1,\"4468\":1,\"4607\":1,\"4176\":1,\"967\":1,\"960\":1,\"4640\":1,\"1979\":1,\"3598\":1,\"3241\":1,\"4177\":1,\"4178\":1,\"1648\":1,\"3209\":1,\"4484\":1,\"4485\":1,\"4486\":1,\"4487\":1,\"722\":1,\"4481\":1,\"1531\":1,\"4483\":1,\"2103\":1,\"4467\":1,\"2106\":1,\"2105\":1},5,\"1827-673-6989-318-967-2107\",\"V\"]\r\n",
      "2108\t[{\"958\":1,\"967\":1,\"960\":1,\"1648\":1,\"2103\":1,\"1492\":1,\"1493\":1,\"722\":1,\"2105\":1,\"1531\":1,\"2110\":1,\"2111\":1,\"2104\":1,\"2107\":1,\"2106\":1,\"1463\":1,\"2109\":1},5,\"1827-673-6989-318-967-2108\",\"V\"]\r\n",
      "2109\t[{\"4303\":1,\"2861\":1,\"2865\":1,\"2848\":1,\"2849\":1,\"2846\":1,\"2847\":1,\"2844\":1,\"2845\":1,\"2842\":1,\"6757\":1,\"3209\":1,\"6901\":1,\"3214\":1,\"7457\":1,\"2880\":1,\"7458\":1,\"7459\":1,\"7772\":1,\"3999\":1,\"3599\":1,\"1463\":1,\"3601\":1,\"3600\":1,\"1377\":1,\"3748\":1,\"3746\":1,\"3747\":1,\"6758\":1,\"2103\":1,\"5048\":1,\"164\":1,\"7003\":1,\"3338\":1,\"4176\":1,\"4177\":1,\"1979\":1,\"2579\":1,\"3598\":1,\"3241\":1,\"1978\":1,\"6293\":1,\"6292\":1,\"6291\":1,\"2108\":1,\"722\":1,\"7405\":1,\"4178\":1,\"7406\":1,\"2107\":1,\"376\":1},6,\"1827-673-677-5299-623-3209-2109\",\"V\"]\r\n",
      "211\t[{\"201\":1,\"200\":1,\"202\":1,\"204\":1,\"210\":1,\"7610\":1},8,\"1827-673-6989-318-967-957-604-204-211\",\"V\"]\r\n",
      "2110\t[{\"2103\":1,\"2108\":1},6,\"1827-673-6989-318-967-2103-2110\",\"V\"]\r\n",
      "2111\t[{\"3748\":1,\"3746\":1,\"3747\":1,\"6646\":1,\"2108\":1,\"3261\":1,\"7435\":1,\"7436\":1,\"7437\":1,\"1263\":1,\"2103\":1,\"2107\":1,\"2106\":1},6,\"1827-673-6989-318-967-3746-2111\",\"V\"]\r\n",
      "2112\t[{\"102\":1,\"2113\":1,\"2114\":1,\"2115\":1},7,\"1827-673-6989-318-967-3033-2113-2112\",\"V\"]\r\n",
      "2113\t[{\"5274\":1,\"5275\":1,\"5273\":1,\"7492\":1,\"7493\":1,\"3033\":1,\"2112\":1,\"2114\":1,\"2116\":1},6,\"1827-673-6989-318-967-3033-2113\",\"V\"]\r\n",
      "2114\t[{\"2113\":1,\"7492\":1,\"7493\":1,\"6390\":1,\"2112\":1,\"3841\":1,\"3144\":1,\"102\":1,\"7551\":1,\"7550\":1,\"2115\":1,\"2116\":1},7,\"1827-673-6989-318-967-3033-7492-2114\",\"V\"]\r\n",
      "2115\t[{\"101\":1,\"7577\":1,\"904\":1,\"7493\":1,\"6390\":1,\"8075\":1,\"8074\":1,\"3839\":1,\"3840\":1,\"3843\":1,\"3842\":1,\"3112\":1,\"7578\":1,\"6899\":1,\"8113\":1,\"2112\":1,\"7550\":1,\"2114\":1,\"7551\":1,\"2116\":1},7,\"1827-673-666-5398-5817-900-904-2115\",\"V\"]\r\n",
      "\r\n",
      "==> ./largest-synnet-result/part-00007 <==\r\n",
      "2281\t[{\"5115\":1,\"6327\":1,\"1027\":1,\"5116\":1,\"1765\":1,\"6404\":1,\"6405\":1,\"2280\":1,\"2282\":1,\"2284\":1,\"5117\":1,\"524\":1,\"6326\":1,\"4589\":1,\"3267\":1,\"3266\":1,\"1378\":1,\"5505\":1,\"2882\":1},6,\"1827-673-1826-6990-460-2280-2281\",\"V\"]\r\n",
      "2282\t[{\"5115\":1,\"3717\":1,\"3716\":1,\"3719\":1,\"3718\":1,\"5116\":1,\"53\":1,\"5505\":1,\"2882\":1,\"6327\":1,\"6326\":1,\"524\":1,\"4318\":1,\"4985\":1,\"2281\":1,\"1378\":1,\"6329\":1,\"6328\":1,\"2442\":1,\"3607\":1,\"3606\":1,\"2280\":1,\"4319\":1,\"2284\":1,\"6444\":1,\"1493\":1,\"3267\":1,\"3266\":1,\"4607\":1,\"4589\":1,\"1027\":1,\"6404\":1,\"3682\":1,\"3681\":1,\"3680\":1,\"5117\":1,\"2538\":1,\"4487\":1,\"6330\":1,\"1477\":1,\"684\":1,\"2439\":1,\"1765\":1},6,\"1827-673-1826-6990-460-2280-2282\",\"V\"]\r\n",
      "2283\t[{\"1027\":1,\"5005\":1,\"5004\":1,\"2280\":1,\"2284\":1,\"1483\":1},6,\"1827-673-1826-6990-460-2280-2283\",\"V\"]\r\n",
      "2284\t[{\"1025\":1,\"2288\":1,\"1027\":1,\"960\":1,\"2280\":1,\"2281\":1,\"2282\":1,\"2283\":1,\"461\":1,\"460\":1,\"2286\":1,\"2285\":1,\"1169\":1,\"771\":1,\"2016\":1,\"57\":1,\"2287\":1,\"493\":1},5,\"1827-673-1826-6990-460-2284\",\"V\"]\r\n",
      "2285\t[{\"1027\":1,\"1339\":1,\"2280\":1,\"2284\":1,\"5008\":1,\"5371\":1,\"6152\":1,\"4032\":1,\"7863\":1,\"7862\":1,\"5973\":1,\"5972\":1,\"5971\":1,\"5505\":1},6,\"1827-673-1826-6990-460-2280-2285\",\"V\"]\r\n",
      "2286\t[{\"1027\":1,\"2280\":1,\"2284\":1,\"7366\":1,\"7367\":1,\"3953\":1,\"2752\":1,\"2753\":1,\"2751\":1,\"2824\":1,\"2826\":1,\"2821\":1,\"2823\":1},6,\"1827-673-6989-2212-4892-7367-2286\",\"V\"]\r\n",
      "2287\t[{\"6426\":1,\"6427\":1,\"2280\":1,\"2284\":1,\"1027\":1,\"8144\":1,\"2538\":1,\"2078\":1,\"4985\":1},6,\"1827-673-1826-6990-460-2280-2287\",\"V\"]\r\n",
      "2288\t[{\"1141\":1,\"2657\":1,\"576\":1,\"4040\":1,\"4041\":1,\"4048\":1,\"4049\":1,\"3836\":1,\"3837\":1,\"2280\":1,\"2284\":1,\"1027\":1,\"6982\":1,\"98\":1,\"1869\":1,\"1794\":1,\"4057\":1,\"4056\":1,\"4055\":1,\"4054\":1,\"4053\":1,\"4052\":1,\"4051\":1,\"4050\":1,\"2679\":1},5,\"1827-673-6989-1146-4041-2288\",\"V\"]\r\n",
      "2289\t[{\"2290\":1},9,\"1827-673-1823-3892-95-96-4947-7621-2290-2289\",\"V\"]\r\n",
      "229\t[{\"230\":1},8,\"1827-673-677-5299-623-1463-4172-230-229\",\"V\"]\r\n",
      "\r\n",
      "==> ./largest-synnet-result/part-00008 <==\r\n",
      "2525\t[{\"2524\":1,\"2526\":1,\"2529\":1},8,\"1827-673-1826-4817-89-7114-2768-2529-2525\",\"V\"]\r\n",
      "2526\t[{\"2525\":1,\"2524\":1,\"2528\":1},9,\"1827-673-1826-4817-89-7114-2768-2527-2524-2526\",\"V\"]\r\n",
      "2527\t[{\"2524\":1,\"2768\":1,\"2529\":1},7,\"1827-673-1826-4817-89-7114-2768-2527\",\"V\"]\r\n",
      "2528\t[{\"2524\":1,\"2526\":1,\"2529\":1},8,\"1827-673-1826-4817-89-7114-2768-2529-2528\",\"V\"]\r\n",
      "2529\t[{\"2525\":1,\"2524\":1,\"2527\":1,\"2768\":1,\"2528\":1,\"7118\":1},7,\"1827-673-1826-4817-89-7114-2768-2529\",\"V\"]\r\n",
      "253\t[{\"254\":1},9223372036854775807,\"undefined\",\"U\"]\r\n",
      "2530\t[{\"2532\":1,\"2531\":1},9223372036854775807,\"undefined\",\"U\"]\r\n",
      "2531\t[{\"2532\":1,\"2530\":1,\"7759\":1,\"3007\":1},9223372036854775807,\"undefined\",\"U\"]\r\n",
      "2532\t[{\"2530\":1,\"2531\":1,\"7759\":1,\"3007\":1},9223372036854775807,\"undefined\",\"U\"]\r\n",
      "2533\t[{\"153\":1,\"154\":1,\"156\":1,\"1192\":1,\"1536\":1,\"2538\":1,\"137\":1,\"1869\":1,\"2536\":1,\"2537\":1,\"2534\":1,\"2535\":1},5,\"1827-673-677-2320-153-2533\",\"V\"]\r\n",
      "\r\n",
      "==> ./largest-synnet-result/part-00009 <==\r\n",
      "2720\t[{\"1166\":1,\"973\":1,\"261\":1,\"267\":1,\"64\":1,\"268\":1,\"1672\":1},6,\"1827-673-678-814-275-64-2720\",\"V\"]\r\n",
      "2721\t[{\"247\":1,\"251\":1,\"2722\":1},8,\"1827-673-669-1270-6581-631-4289-247-2721\",\"V\"]\r\n",
      "2722\t[{\"4507\":1,\"251\":1,\"4508\":1,\"2721\":1,\"4292\":1},7,\"1827-673-6989-318-2211-4495-4507-2722\",\"V\"]\r\n",
      "2723\t[{\"2726\":1,\"2725\":1,\"2724\":1},6,\"1827-673-5120-317-2727-2724-2723\",\"V\"]\r\n",
      "2724\t[{\"5865\":1,\"6683\":1,\"6684\":1,\"6685\":1,\"2727\":1,\"2726\":1,\"2725\":1,\"2723\":1,\"2728\":1,\"7470\":1,\"3728\":1,\"6719\":1,\"3724\":1,\"3725\":1,\"3726\":1,\"3727\":1,\"3723\":1,\"6754\":1,\"1472\":1,\"1680\":1,\"7469\":1,\"4581\":1},5,\"1827-673-5120-317-2727-2724\",\"V\"]\r\n",
      "2725\t[{\"2726\":1,\"2724\":1,\"2723\":1,\"3724\":1,\"7469\":1,\"7470\":1,\"3725\":1,\"4581\":1},6,\"1827-673-5120-317-2727-2724-2725\",\"V\"]\r\n",
      "2726\t[{\"2725\":1,\"2724\":1,\"2723\":1,\"3724\":1,\"7469\":1,\"4579\":1,\"7470\":1,\"3725\":1,\"4581\":1,\"4580\":1},6,\"1827-673-5120-317-2727-2724-2726\",\"V\"]\r\n",
      "2727\t[{\"2276\":1,\"2730\":1,\"473\":1,\"264\":1,\"317\":1,\"2729\":1,\"2728\":1,\"1680\":1,\"2724\":1,\"1872\":1,\"1374\":1,\"1377\":1,\"70\":1,\"1676\":1,\"2687\":1,\"1660\":1},4,\"1827-673-5120-317-2727\",\"V\"]\r\n",
      "2728\t[{\"2727\":1,\"2724\":1,\"1680\":1,\"3728\":1,\"3724\":1,\"3725\":1,\"3726\":1,\"3727\":1,\"3723\":1},5,\"1827-673-5120-317-2727-2728\",\"V\"]\r\n",
      "2729\t[{\"2727\":1,\"5873\":1,\"317\":1,\"4515\":1,\"5872\":1,\"1680\":1,\"3728\":1,\"5874\":1,\"3726\":1,\"3727\":1},4,\"1827-673-5120-317-2729\",\"V\"]\r\n",
      "\r\n",
      "==> ./largest-synnet-result/part-00010 <==\r\n",
      "2943\t[{\"8057\":1,\"2944\":1,\"7834\":1,\"2942\":1},7,\"1827-673-677-2320-158-6045-2944-2943\",\"V\"]\r\n",
      "2944\t[{\"8057\":1,\"7834\":1,\"3435\":1,\"6045\":1,\"2943\":1,\"2942\":1},6,\"1827-673-677-2320-158-6045-2944\",\"V\"]\r\n",
      "2945\t[{\"2946\":1},8,\"1827-673-6989-318-991-1473-2010-2946-2945\",\"V\"]\r\n",
      "2946\t[{\"2545\":1,\"35\":1,\"7001\":1,\"2945\":1,\"2010\":1,\"5647\":1},7,\"1827-673-6989-318-991-1473-2010-2946\",\"V\"]\r\n",
      "2947\t[{\"156\":1,\"1192\":1,\"617\":1,\"1150\":1,\"137\":1,\"268\":1,\"2536\":1},5,\"1827-673-1826-4047-1150-2947\",\"V\"]\r\n",
      "2948\t[{\"2949\":1},9223372036854775807,\"undefined\",\"U\"]\r\n",
      "2949\t[{\"2948\":1},9223372036854775807,\"undefined\",\"U\"]\r\n",
      "295\t[{\"1830\":1,\"8090\":1,\"8089\":1,\"1460\":1,\"289\":1,\"288\":1,\"4377\":1,\"4373\":1,\"4375\":1,\"292\":1,\"293\":1,\"287\":1,\"291\":1},6,\"1827-673-677-5299-623-1460-295\",\"V\"]\r\n",
      "2950\t[{\"753\":1,\"459\":1,\"2691\":1,\"1077\":1,\"31\":1,\"274\":1,\"72\":1,\"2951\":1,\"2952\":1,\"2953\":1},6,\"1827-673-678-814-4154-1077-2950\",\"V\"]\r\n",
      "2951\t[{\"4528\":1,\"4527\":1,\"4526\":1,\"4525\":1,\"4524\":1,\"4523\":1,\"4522\":1,\"274\":1,\"4344\":1,\"2950\":1,\"2691\":1},7,\"1827-673-678-814-67-3773-2691-2951\",\"V\"]\r\n",
      "\r\n",
      "==> ./largest-synnet-result/part-00011 <==\r\n",
      "3188\t[{\"2626\":1,\"5092\":1,\"3183\":1,\"3189\":1,\"7966\":1,\"3182\":1,\"7965\":1,\"2692\":1,\"1368\":1},7,\"1827-673-1826-4817-2157-2195-5092-3188\",\"V\"]\r\n",
      "3189\t[{\"3188\":1,\"3182\":1,\"1368\":1},8,\"1827-673-6989-318-967-7406-3190-3182-3189\",\"V\"]\r\n",
      "319\t[{\"7926\":1,\"4518\":1,\"4264\":1,\"4265\":1,\"4513\":1,\"4516\":1,\"3414\":1,\"315\":1,\"314\":1,\"1490\":1,\"320\":1,\"321\":1,\"5291\":1,\"4517\":1,\"5292\":1,\"3918\":1,\"6872\":1},5,\"1827-673-5120-317-314-319\",\"V\"]\r\n",
      "3190\t[{\"7406\":1,\"3182\":1,\"1368\":1},6,\"1827-673-6989-318-967-7406-3190\",\"V\"]\r\n",
      "3191\t[{\"8143\":1,\"3182\":1,\"1368\":1},8,\"1827-673-6989-318-967-7406-3190-3182-3191\",\"V\"]\r\n",
      "3192\t[{\"3182\":1,\"1368\":1},8,\"1827-673-6989-318-967-7406-3190-3182-3192\",\"V\"]\r\n",
      "3193\t[{\"1608\":1,\"495\":1,\"3196\":1,\"1607\":1,\"710\":1,\"3152\":1,\"3195\":1,\"3194\":1,\"498\":1,\"178\":1,\"176\":1,\"496\":1,\"497\":1},6,\"1827-673-1823-3892-95-3194-3193\",\"V\"]\r\n",
      "3194\t[{\"5172\":1,\"5171\":1,\"5170\":1,\"3832\":1,\"3833\":1,\"5169\":1,\"1261\":1,\"4065\":1,\"5024\":1,\"498\":1,\"178\":1,\"3193\":1,\"95\":1,\"257\":1},5,\"1827-673-1823-3892-95-3194\",\"V\"]\r\n",
      "3195\t[{\"3193\":1,\"498\":1,\"5024\":1},7,\"1827-673-1823-3892-95-3194-3193-3195\",\"V\"]\r\n",
      "3196\t[{\"1217\":1,\"6967\":1,\"6966\":1,\"3515\":1,\"498\":1,\"4594\":1,\"3193\":1},6,\"1827-673-1826-4817-1697-3515-3196\",\"V\"]\r\n",
      "\r\n",
      "==> ./largest-synnet-result/part-00012 <==\r\n",
      "3421\t[{\"5067\":1,\"5066\":1,\"6996\":1,\"3420\":1,\"1332\":1,\"3419\":1},8,\"1827-673-1823-3892-95-3336-1087-3420-3421\",\"V\"]\r\n",
      "3422\t[{\"3423\":1,\"3424\":1},9223372036854775807,\"undefined\",\"U\"]\r\n",
      "3423\t[{\"8255\":1,\"3422\":1,\"3425\":1,\"3424\":1},9223372036854775807,\"undefined\",\"U\"]\r\n",
      "3424\t[{\"3423\":1,\"3422\":1,\"3425\":1,\"8255\":1},9223372036854775807,\"undefined\",\"U\"]\r\n",
      "3425\t[{\"3423\":1,\"3424\":1},9223372036854775807,\"undefined\",\"U\"]\r\n",
      "3426\t[{\"216\":1,\"217\":1,\"214\":1,\"215\":1,\"599\":1,\"218\":1,\"219\":1,\"70\":1,\"220\":1},5,\"1827-673-1826-4817-214-3426\",\"V\"]\r\n",
      "3427\t[{\"216\":1,\"217\":1,\"214\":1,\"215\":1,\"599\":1,\"218\":1,\"219\":1,\"70\":1,\"220\":1},5,\"1827-673-1826-4817-214-3427\",\"V\"]\r\n",
      "3428\t[{\"3430\":1,\"3429\":1},9223372036854775807,\"undefined\",\"U\"]\r\n",
      "3429\t[{\"3430\":1,\"3428\":1,\"8225\":1},9223372036854775807,\"undefined\",\"U\"]\r\n",
      "343\t[{\"336\":1,\"338\":1,\"342\":1,\"341\":1},5,\"1827-673-678-2002-338-343\",\"V\"]\r\n",
      "\r\n",
      "==> ./largest-synnet-result/part-00013 <==\r\n",
      "363\t[{\"364\":1,\"362\":1,\"1752\":1,\"4583\":1,\"154\":1},6,\"1827-673-677-2320-153-362-363\",\"V\"]\r\n",
      "3630\t[{\"3629\":1,\"3869\":1,\"3868\":1,\"696\":1,\"3620\":1,\"699\":1,\"3867\":1,\"3866\":1,\"3631\":1,\"3800\":1},6,\"1827-673-1826-4817-89-3620-3630\",\"V\"]\r\n",
      "3631\t[{\"3629\":1,\"3869\":1,\"696\":1,\"3620\":1,\"699\":1,\"3800\":1,\"3630\":1,\"3866\":1},6,\"1827-673-1826-4817-89-3620-3631\",\"V\"]\r\n",
      "3632\t[{\"882\":1,\"337\":1,\"3633\":1,\"881\":1,\"219\":1},5,\"1827-673-6989-318-3633-3632\",\"V\"]\r\n",
      "3633\t[{\"1423\":1,\"318\":1,\"2209\":1,\"1168\":1,\"967\":1,\"3632\":1,\"12\":1},4,\"1827-673-6989-318-3633\",\"V\"]\r\n",
      "3634\t[{\"882\":1,\"881\":1,\"3639\":1,\"337\":1,\"219\":1,\"3642\":1,\"3641\":1,\"3640\":1},6,\"1827-673-669-1270-5895-3642-3634\",\"V\"]\r\n",
      "3635\t[{\"883\":1,\"882\":1,\"881\":1,\"884\":1,\"337\":1,\"783\":1},7,\"1827-673-6989-318-3633-3632-881-3635\",\"V\"]\r\n",
      "3636\t[{\"882\":1,\"881\":1,\"339\":1,\"337\":1,\"336\":1,\"340\":1},6,\"1827-673-678-2002-338-336-3636\",\"V\"]\r\n",
      "3637\t[{\"214\":1,\"1531\":1,\"1528\":1,\"881\":1,\"219\":1,\"1526\":1,\"1520\":1,\"1522\":1,\"1530\":1,\"1496\":1,\"1529\":1,\"816\":1},5,\"1827-673-678-814-816-3637\",\"V\"]\r\n",
      "3638\t[{\"214\":1,\"1531\":1,\"1528\":1,\"881\":1,\"219\":1,\"1526\":1,\"1520\":1,\"1522\":1,\"1530\":1,\"1496\":1,\"1529\":1,\"816\":1},5,\"1827-673-678-814-816-3638\",\"V\"]\r\n",
      "\r\n",
      "==> ./largest-synnet-result/part-00014 <==\r\n",
      "3836\t[{\"2288\":1,\"1323\":1,\"1141\":1,\"1869\":1,\"908\":1,\"909\":1,\"52\":1,\"731\":1,\"98\":1,\"1321\":1,\"722\":1,\"177\":1,\"93\":1,\"2997\":1,\"427\":1,\"1794\":1},5,\"1827-673-6989-318-52-3836\",\"V\"]\r\n",
      "3837\t[{\"2288\":1,\"1323\":1,\"1141\":1,\"1869\":1,\"908\":1,\"909\":1,\"52\":1,\"731\":1,\"98\":1,\"1321\":1,\"722\":1,\"5853\":1,\"177\":1,\"93\":1,\"2997\":1,\"427\":1,\"1794\":1},5,\"1827-673-6989-318-52-3837\",\"V\"]\r\n",
      "3838\t[{\"15\":1,\"610\":1,\"99\":1,\"7226\":1,\"103\":1,\"93\":1,\"95\":1,\"96\":1},5,\"1827-673-1823-3892-95-3838\",\"V\"]\r\n",
      "3839\t[{\"93\":1,\"101\":1,\"2115\":1,\"904\":1,\"7577\":1},6,\"1827-673-1823-3892-95-93-3839\",\"V\"]\r\n",
      "384\t[{\"388\":1,\"389\":1,\"385\":1,\"386\":1,\"387\":1},6,\"1827-673-678-2295-3360-389-384\",\"V\"]\r\n",
      "3840\t[{\"93\":1,\"101\":1,\"2115\":1,\"904\":1,\"7577\":1},6,\"1827-673-1823-3892-95-93-3840\",\"V\"]\r\n",
      "3841\t[{\"443\":1,\"2080\":1,\"3145\":1,\"102\":1,\"93\":1,\"2114\":1},6,\"1827-673-1823-3892-95-93-3841\",\"V\"]\r\n",
      "3842\t[{\"7577\":1,\"904\":1,\"93\":1,\"101\":1,\"2115\":1,\"2831\":1},6,\"1827-673-1823-3892-95-93-3842\",\"V\"]\r\n",
      "3843\t[{\"93\":1,\"101\":1,\"2115\":1,\"904\":1,\"7577\":1},6,\"1827-673-1823-3892-95-93-3843\",\"V\"]\r\n",
      "3844\t[{\"99\":1,\"103\":1,\"93\":1,\"81\":1,\"95\":1,\"96\":1},5,\"1827-673-1823-3892-95-3844\",\"V\"]\r\n",
      "\r\n",
      "==> ./largest-synnet-result/part-00015 <==\r\n",
      "405\t[{\"215\":1,\"1953\":1,\"4186\":1,\"1498\":1,\"3656\":1,\"958\":1,\"974\":1,\"657\":1,\"4727\":1,\"406\":1,\"1500\":1,\"404\":1,\"403\":1,\"402\":1,\"401\":1,\"1398\":1,\"1400\":1,\"658\":1,\"4316\":1,\"4317\":1,\"6804\":1,\"461\":1,\"6803\":1,\"1178\":1,\"1955\":1,\"1491\":1,\"1492\":1,\"1493\":1,\"1494\":1,\"1495\":1,\"1496\":1,\"1497\":1,\"4794\":1,\"1499\":1,\"4791\":1,\"1490\":1,\"967\":1,\"1954\":1,\"5188\":1,\"5915\":1,\"5914\":1,\"1570\":1,\"5913\":1},4,\"1827-673-6989-1398-405\",\"V\"]\r\n",
      "4050\t[{\"2288\":1,\"1141\":1,\"4048\":1,\"4049\":1},5,\"1827-673-1826-4047-1141-4050\",\"V\"]\r\n",
      "4051\t[{\"2288\":1,\"1141\":1,\"4048\":1,\"4049\":1},5,\"1827-673-1826-4047-1141-4051\",\"V\"]\r\n",
      "4052\t[{\"2442\":1,\"2659\":1,\"1141\":1,\"1169\":1,\"2658\":1,\"177\":1,\"2666\":1,\"2664\":1,\"2661\":1,\"1672\":1,\"2288\":1,\"771\":1,\"636\":1,\"637\":1,\"1794\":1,\"98\":1,\"1869\":1,\"7589\":1,\"782\":1,\"2578\":1,\"2577\":1,\"6313\":1,\"2535\":1,\"2534\":1,\"1660\":1},5,\"1827-673-1826-4047-1141-4052\",\"V\"]\r\n",
      "4053\t[{\"2442\":1,\"2659\":1,\"2658\":1,\"156\":1,\"1169\":1,\"1141\":1,\"177\":1,\"2666\":1,\"2664\":1,\"2665\":1,\"2662\":1,\"2663\":1,\"2660\":1,\"2661\":1,\"1672\":1,\"2288\":1,\"771\":1,\"583\":1,\"636\":1,\"637\":1,\"1794\":1,\"98\":1,\"1869\":1,\"1436\":1,\"782\":1,\"2578\":1,\"2577\":1,\"2538\":1,\"1660\":1,\"2537\":1,\"2534\":1,\"2535\":1},5,\"1827-673-1826-4047-1141-4053\",\"V\"]\r\n",
      "4054\t[{\"2442\":1,\"2659\":1,\"1141\":1,\"1169\":1,\"2658\":1,\"177\":1,\"2666\":1,\"2664\":1,\"2661\":1,\"1672\":1,\"2288\":1,\"771\":1,\"636\":1,\"637\":1,\"1794\":1,\"98\":1,\"1869\":1,\"782\":1,\"2578\":1,\"2577\":1,\"2535\":1,\"2534\":1,\"1660\":1},5,\"1827-673-1826-4047-1141-4054\",\"V\"]\r\n",
      "4055\t[{\"458\":1,\"2288\":1,\"1141\":1,\"908\":1,\"731\":1,\"1794\":1,\"1366\":1,\"98\":1,\"1377\":1,\"1869\":1,\"2686\":1,\"2681\":1,\"2683\":1},5,\"1827-673-1826-4047-1141-4055\",\"V\"]\r\n",
      "4056\t[{\"458\":1,\"2288\":1,\"1141\":1,\"908\":1,\"731\":1,\"1794\":1,\"1366\":1,\"98\":1,\"1377\":1,\"1869\":1,\"2686\":1,\"2681\":1,\"2683\":1},5,\"1827-673-1826-4047-1141-4056\",\"V\"]\r\n",
      "4057\t[{\"458\":1,\"1141\":1,\"731\":1,\"1377\":1,\"400\":1,\"2684\":1,\"2685\":1,\"2686\":1,\"2687\":1,\"2680\":1,\"2681\":1,\"2682\":1,\"2683\":1,\"2288\":1,\"1794\":1,\"98\":1,\"1869\":1,\"462\":1,\"908\":1,\"1037\":1,\"1366\":1,\"2538\":1},5,\"1827-673-1826-4047-1141-4057\",\"V\"]\r\n",
      "4058\t[{\"1143\":1,\"1141\":1,\"1146\":1,\"1147\":1,\"5837\":1,\"1150\":1,\"137\":1,\"1117\":1,\"2790\":1,\"268\":1,\"2536\":1},4,\"1827-673-6989-1146-4058\",\"V\"]\r\n",
      "\r\n",
      "==> ./largest-synnet-result/part-00016 <==\r\n",
      "429\t[{\"216\":1,\"217\":1,\"214\":1,\"215\":1,\"4807\":1,\"218\":1,\"4887\":1,\"428\":1,\"70\":1,\"219\":1,\"220\":1,\"430\":1,\"431\":1},5,\"1827-673-1826-4817-214-429\",\"V\"]\r\n",
      "4290\t[{\"1708\":1,\"5304\":1,\"1944\":1,\"247\":1,\"1653\":1,\"249\":1,\"1654\":1},6,\"1827-673-1826-4817-89-1708-4290\",\"V\"]\r\n",
      "4291\t[{\"4422\":1,\"3071\":1,\"247\":1,\"125\":1},6,\"1827-673-1826-4891-1342-4422-4291\",\"V\"]\r\n",
      "4292\t[{\"247\":1,\"251\":1,\"2722\":1},8,\"1827-673-669-1270-6581-631-4289-247-4292\",\"V\"]\r\n",
      "4293\t[{\"7508\":1,\"4287\":1},8,\"1827-673-669-1270-6581-631-248-4287-4293\",\"V\"]\r\n",
      "4294\t[{\"2208\":1,\"318\":1,\"2215\":1},4,\"1827-673-6989-318-4294\",\"V\"]\r\n",
      "4295\t[{\"2208\":1,\"4302\":1,\"4301\":1,\"318\":1,\"2215\":1},4,\"1827-673-6989-318-4295\",\"V\"]\r\n",
      "4296\t[{\"2208\":1,\"318\":1,\"2215\":1},4,\"1827-673-6989-318-4296\",\"V\"]\r\n",
      "4297\t[{\"988\":1,\"2210\":1,\"991\":1,\"990\":1,\"2215\":1,\"2214\":1,\"2208\":1,\"2209\":1,\"2218\":1,\"986\":1,\"2211\":1,\"52\":1,\"317\":1,\"967\":1,\"318\":1,\"1604\":1},4,\"1827-673-5120-317-4297\",\"V\"]\r\n",
      "4298\t[{\"988\":1,\"318\":1,\"986\":1,\"316\":1,\"315\":1,\"2208\":1,\"2209\":1,\"1398\":1,\"991\":1,\"990\":1,\"317\":1,\"2210\":1,\"2213\":1,\"2212\":1,\"2211\":1,\"967\":1,\"2217\":1,\"2216\":1,\"2215\":1,\"2214\":1,\"2218\":1,\"1604\":1,\"52\":1,\"1826\":1},3,\"1827-673-1826-4298\",\"V\"]\r\n",
      "\r\n",
      "==> ./largest-synnet-result/part-00017 <==\r\n",
      "4504\t[{\"830\":1,\"3248\":1,\"836\":1,\"3243\":1,\"3247\":1,\"2211\":1,\"3245\":1,\"6801\":1,\"7719\":1,\"722\":1,\"4502\":1,\"5801\":1,\"6232\":1},5,\"1827-673-6989-318-2211-4504\",\"V\"]\r\n",
      "4505\t[{\"830\":1,\"3248\":1,\"836\":1,\"3243\":1,\"3247\":1,\"2211\":1,\"3245\":1,\"722\":1,\"6232\":1},5,\"1827-673-6989-318-2211-4505\",\"V\"]\r\n",
      "4506\t[{\"830\":1,\"3248\":1,\"836\":1,\"3243\":1,\"3247\":1,\"2211\":1,\"3245\":1,\"722\":1,\"6232\":1},5,\"1827-673-6989-318-2211-4506\",\"V\"]\r\n",
      "4507\t[{\"4495\":1,\"7961\":1,\"418\":1,\"2722\":1,\"4508\":1},6,\"1827-673-6989-318-2211-4495-4507\",\"V\"]\r\n",
      "4508\t[{\"4507\":1,\"418\":1,\"4495\":1,\"2722\":1},6,\"1827-673-6989-318-2211-4495-4508\",\"V\"]\r\n",
      "4509\t[{\"4512\":1,\"4510\":1,\"4511\":1},6,\"1827-673-1826-4817-89-4510-4509\",\"V\"]\r\n",
      "451\t[{\"448\":1,\"454\":1,\"447\":1,\"444\":1,\"3898\":1,\"2142\":1,\"3897\":1},6,\"1827-673-5120-317-1680-448-451\",\"V\"]\r\n",
      "4510\t[{\"1703\":1,\"1426\":1,\"4512\":1,\"4511\":1,\"1696\":1,\"89\":1,\"4509\":1,\"1698\":1},5,\"1827-673-1826-4817-89-4510\",\"V\"]\r\n",
      "4511\t[{\"1192\":1,\"4509\":1,\"4512\":1,\"705\":1,\"4510\":1,\"5376\":1,\"1695\":1,\"89\":1,\"1677\":1,\"1511\":1},5,\"1827-673-1826-4817-89-4511\",\"V\"]\r\n",
      "4512\t[{\"89\":1,\"137\":1,\"66\":1,\"657\":1,\"1111\":1,\"1710\":1,\"1426\":1,\"4510\":1,\"4511\":1,\"1696\":1,\"1697\":1,\"1695\":1,\"1693\":1,\"1650\":1,\"1670\":1,\"1698\":1,\"1699\":1,\"1701\":1,\"73\":1,\"4509\":1,\"220\":1,\"1700\":1,\"965\":1,\"1703\":1,\"1704\":1,\"1705\":1,\"1706\":1,\"1707\":1,\"1709\":1,\"909\":1,\"1511\":1},5,\"1827-673-1826-4817-89-4512\",\"V\"]\r\n",
      "\r\n",
      "==> ./largest-synnet-result/part-00018 <==\r\n",
      "4727\t[{\"1436\":1,\"2584\":1,\"1569\":1,\"3157\":1,\"4726\":1,\"1783\":1,\"1568\":1,\"406\":1,\"405\":1,\"404\":1,\"4798\":1,\"402\":1,\"4795\":1,\"1913\":1,\"1566\":1,\"3198\":1},5,\"1827-673-6989-1398-405-4727\",\"V\"]\r\n",
      "4728\t[{\"4726\":1,\"1168\":1,\"4240\":1,\"4241\":1,\"3052\":1,\"4851\":1,\"4850\":1},6,\"1827-673-6989-318-2209-3052-4728\",\"V\"]\r\n",
      "4729\t[{\"4730\":1,\"4726\":1,\"3622\":1,\"5305\":1,\"5306\":1,\"99\":1,\"4330\":1,\"265\":1},6,\"1827-673-1823-3892-95-99-4729\",\"V\"]\r\n",
      "473\t[{\"3593\":1,\"3595\":1,\"3594\":1,\"2455\":1,\"3490\":1,\"3515\":1,\"3514\":1,\"6266\":1,\"6267\":1,\"6265\":1,\"1810\":1,\"1811\":1,\"1980\":1,\"1429\":1,\"4824\":1,\"3516\":1,\"6268\":1,\"6269\":1,\"1254\":1,\"1682\":1,\"3513\":1,\"2727\":1,\"3728\":1,\"3726\":1,\"3727\":1,\"1433\":1,\"6271\":1,\"6270\":1,\"6273\":1,\"6272\":1,\"6275\":1,\"6274\":1,\"1801\":1,\"6276\":1,\"4830\":1,\"472\":1,\"1680\":1,\"470\":1,\"471\":1,\"474\":1,\"6031\":1,\"5377\":1},5,\"1827-673-5120-317-2727-473\",\"V\"]\r\n",
      "4730\t[{\"99\":1,\"4726\":1,\"4729\":1,\"4330\":1,\"265\":1},6,\"1827-673-1823-3892-95-99-4730\",\"V\"]\r\n",
      "4731\t[{\"4732\":1,\"4726\":1},7,\"1827-673-677-7354-2323-402-4726-4731\",\"V\"]\r\n",
      "4732\t[{\"4731\":1,\"4726\":1},7,\"1827-673-677-7354-2323-402-4726-4732\",\"V\"]\r\n",
      "4733\t[{\"4726\":1},7,\"1827-673-677-7354-2323-402-4726-4733\",\"V\"]\r\n",
      "4734\t[{\"4740\":1,\"4736\":1,\"4737\":1,\"1310\":1,\"4742\":1,\"4738\":1,\"4739\":1,\"4735\":1,\"4741\":1,\"163\":1},7,\"1827-673-1826-4817-2193-5901-4740-4734\",\"V\"]\r\n",
      "4735\t[{\"4734\":1},8,\"1827-673-1826-4817-2193-5901-4740-4734-4735\",\"V\"]\r\n",
      "\r\n",
      "==> ./largest-synnet-result/part-00019 <==\r\n",
      "4960\t[{\"832\":1,\"833\":1,\"830\":1,\"831\":1,\"836\":1,\"837\":1,\"834\":1,\"835\":1,\"829\":1,\"828\":1},6,\"1827-673-6989-318-967-831-4960\",\"V\"]\r\n",
      "4961\t[{\"1400\":1,\"828\":1,\"4722\":1},6,\"1827-673-6989-1398-6875-1400-4961\",\"V\"]\r\n",
      "4962\t[{\"1702\":1,\"2122\":1,\"3971\":1,\"828\":1,\"2790\":1,\"1699\":1},6,\"1827-673-6989-1146-4041-2790-4962\",\"V\"]\r\n",
      "4963\t[{\"1702\":1,\"2122\":1,\"3971\":1,\"828\":1,\"2790\":1,\"4964\":1,\"1699\":1},6,\"1827-673-6989-1146-4041-2790-4963\",\"V\"]\r\n",
      "4964\t[{\"1702\":1,\"2122\":1,\"1426\":1,\"3971\":1,\"1694\":1,\"89\":1,\"828\":1,\"2790\":1,\"4963\":1,\"1699\":1},5,\"1827-673-1826-4817-89-4964\",\"V\"]\r\n",
      "4965\t[{\"1316\":1,\"948\":1,\"949\":1,\"953\":1,\"992\":1,\"2598\":1,\"414\":1,\"654\":1,\"1450\":1,\"828\":1},5,\"1827-673-665-668-949-4965\",\"V\"]\r\n",
      "4966\t[{\"612\":1,\"15\":1,\"828\":1,\"608\":1},6,\"1827-673-669-1268-3702-15-4966\",\"V\"]\r\n",
      "4967\t[{\"15\":1,\"612\":1,\"608\":1,\"3032\":1,\"828\":1,\"4968\":1,\"6232\":1},6,\"1827-673-6989-318-967-3032-4967\",\"V\"]\r\n",
      "4968\t[{\"15\":1,\"612\":1,\"608\":1,\"828\":1,\"4967\":1,\"6233\":1,\"6232\":1},6,\"1827-673-669-1268-3702-15-4968\",\"V\"]\r\n",
      "4969\t[{\"1775\":1,\"1774\":1,\"449\":1,\"1776\":1,\"601\":1,\"452\":1,\"453\":1,\"447\":1,\"1777\":1},6,\"1827-673-666-5398-5814-452-4969\",\"V\"]\r\n",
      "\r\n",
      "==> ./largest-synnet-result/part-00020 <==\r\n",
      "5206\t[{\"5207\":1},8,\"1827-673-678-814-816-5689-6956-5207-5206\",\"V\"]\r\n",
      "5207\t[{\"6994\":1,\"6992\":1,\"6993\":1,\"2301\":1,\"5206\":1,\"6956\":1},7,\"1827-673-678-814-816-5689-6956-5207\",\"V\"]\r\n",
      "5208\t[{\"536\":1,\"534\":1,\"404\":1,\"535\":1,\"123\":1,\"533\":1,\"532\":1},6,\"1827-673-6989-1398-405-404-5208\",\"V\"]\r\n",
      "5209\t[{\"534\":1,\"404\":1,\"536\":1,\"123\":1,\"5212\":1,\"532\":1},6,\"1827-673-6989-1398-405-404-5209\",\"V\"]\r\n",
      "521\t[{\"5114\":1,\"4408\":1,\"4434\":1,\"519\":1,\"518\":1,\"2687\":1},6,\"1827-673-5120-317-2727-2687-521\",\"V\"]\r\n",
      "5210\t[{\"1942\":1,\"536\":1,\"534\":1,\"532\":1,\"5923\":1},7,\"1827-673-6989-1398-405-404-532-5210\",\"V\"]\r\n",
      "5211\t[{\"1942\":1,\"536\":1,\"534\":1,\"532\":1,\"5923\":1},7,\"1827-673-6989-1398-405-404-532-5211\",\"V\"]\r\n",
      "5212\t[{\"5209\":1,\"8017\":1,\"1877\":1,\"8018\":1},5,\"1827-673-6989-2217-8018-5212\",\"V\"]\r\n",
      "5213\t[{\"2296\":1},6,\"1827-673-678-2295-2294-2296-5213\",\"V\"]\r\n",
      "5214\t[{\"5216\":1,\"5215\":1},9223372036854775807,\"undefined\",\"U\"]\r\n",
      "\r\n",
      "==> ./largest-synnet-result/part-00021 <==\r\n",
      "5445\t[{\"1094\":1,\"2617\":1,\"3920\":1,\"5549\":1,\"5542\":1,\"5441\":1,\"5440\":1,\"5547\":1,\"3919\":1,\"3918\":1,\"1490\":1,\"2414\":1,\"4554\":1,\"5548\":1},6,\"1827-673-678-2295-1095-2414-5445\",\"V\"]\r\n",
      "5446\t[{\"1490\":1,\"5447\":1},6,\"1827-673-6989-1398-405-1490-5446\",\"V\"]\r\n",
      "5447\t[{\"1490\":1,\"5446\":1,\"3918\":1},6,\"1827-673-6989-1398-405-1490-5447\",\"V\"]\r\n",
      "5448\t[{\"1490\":1,\"5449\":1},6,\"1827-673-6989-1398-405-1490-5448\",\"V\"]\r\n",
      "5449\t[{\"1490\":1,\"5448\":1,\"3918\":1},6,\"1827-673-6989-1398-405-1490-5449\",\"V\"]\r\n",
      "545\t[{\"548\":1,\"549\":1,\"546\":1,\"547\":1,\"550\":1},7,\"1827-673-678-822-1732-4143-547-545\",\"V\"]\r\n",
      "5450\t[{\"698\":1,\"5996\":1,\"697\":1,\"682\":1},8,\"1827-673-5120-317-5335-622-5156-697-5450\",\"V\"]\r\n",
      "5451\t[{\"697\":1,\"698\":1,\"702\":1,\"1388\":1,\"1389\":1,\"682\":1},8,\"1827-673-6989-318-2218-265-2902-1389-5451\",\"V\"]\r\n",
      "5452\t[{\"6265\":1,\"697\":1,\"4422\":1,\"701\":1,\"702\":1,\"703\":1},6,\"1827-673-1826-4891-1342-4422-5452\",\"V\"]\r\n",
      "5453\t[{\"6265\":1,\"697\":1,\"4422\":1,\"701\":1,\"702\":1,\"5156\":1,\"703\":1},6,\"1827-673-1826-4891-1342-4422-5453\",\"V\"]\r\n",
      "\r\n",
      "==> ./largest-synnet-result/part-00022 <==\r\n",
      "5723\t[{\"389\":1,\"1677\":1,\"1672\":1},6,\"1827-673-669-1268-3701-1672-5723\",\"V\"]\r\n",
      "5724\t[{\"2658\":1,\"583\":1,\"636\":1,\"1869\":1,\"1676\":1,\"1672\":1},6,\"1827-673-669-1268-3701-1672-5724\",\"V\"]\r\n",
      "5725\t[{\"1733\":1,\"1728\":1},6,\"1827-673-678-822-5194-1733-5725\",\"V\"]\r\n",
      "5726\t[{\"1733\":1,\"1734\":1,\"1728\":1},6,\"1827-673-678-822-5194-1733-5726\",\"V\"]\r\n",
      "5727\t[{\"5728\":1,\"5729\":1,\"5730\":1},9223372036854775807,\"undefined\",\"U\"]\r\n",
      "5728\t[{\"5729\":1,\"5727\":1,\"5730\":1},9223372036854775807,\"undefined\",\"U\"]\r\n",
      "5729\t[{\"5728\":1,\"5727\":1,\"5730\":1},9223372036854775807,\"undefined\",\"U\"]\r\n",
      "573\t[{\"4802\":1,\"1999\":1,\"572\":1,\"577\":1,\"2757\":1,\"1998\":1},7,\"1827-673-6989-1398-6988-581-572-573\",\"V\"]\r\n",
      "5730\t[{\"5728\":1,\"5729\":1,\"5727\":1},9223372036854775807,\"undefined\",\"U\"]\r\n",
      "5731\t[{\"869\":1,\"865\":1,\"866\":1},7,\"1827-673-678-3803-1652-867-865-5731\",\"V\"]\r\n",
      "\r\n",
      "==> ./largest-synnet-result/part-00023 <==\r\n",
      "5996\t[{\"5450\":1,\"698\":1,\"5997\":1,\"5862\":1},9,\"1827-673-1826-4817-89-4954-701-4112-698-5996\",\"V\"]\r\n",
      "5997\t[{\"698\":1,\"5996\":1},9,\"1827-673-1826-4817-89-4954-701-4112-698-5997\",\"V\"]\r\n",
      "5998\t[{\"713\":1,\"5999\":1,\"703\":1},7,\"1827-673-678-3803-712-4066-703-5998\",\"V\"]\r\n",
      "5999\t[{\"6688\":1,\"6870\":1,\"713\":1,\"5998\":1,\"703\":1},7,\"1827-673-669-1268-3701-177-6688-5999\",\"V\"]\r\n",
      "6\t[{\"5\":1},9223372036854775807,\"undefined\",\"U\"]\r\n",
      "60\t[{\"3759\":1,\"3758\":1,\"3771\":1,\"3770\":1,\"1209\":1,\"1162\":1,\"3772\":1,\"1195\":1,\"3773\":1,\"3757\":1,\"3756\":1,\"61\":1,\"62\":1,\"63\":1,\"64\":1,\"65\":1,\"66\":1,\"67\":1,\"68\":1,\"69\":1,\"84\":1,\"3775\":1,\"3774\":1,\"3478\":1,\"3768\":1,\"2509\":1,\"3760\":1,\"3761\":1,\"3762\":1,\"3763\":1,\"1313\":1,\"3765\":1,\"3766\":1,\"3767\":1,\"3481\":1,\"3769\":1,\"3483\":1,\"3482\":1,\"3485\":1,\"3484\":1,\"73\":1,\"72\":1,\"71\":1,\"70\":1,\"3310\":1,\"3471\":1,\"59\":1,\"83\":1,\"3764\":1},5,\"1827-673-678-814-67-60\",\"V\"]\r\n",
      "600\t[{\"601\":1,\"598\":1,\"5294\":1,\"5293\":1,\"1032\":1,\"1033\":1,\"1034\":1,\"1035\":1},6,\"1827-673-1823-5069-1036-1032-600\",\"V\"]\r\n",
      "6000\t[{\"1199\":1,\"6005\":1,\"536\":1,\"2672\":1,\"2248\":1,\"2253\":1,\"2252\":1},7,\"1827-673-1826-4047-1141-3331-2672-6000\",\"V\"]\r\n",
      "6001\t[{\"1199\":1,\"5088\":1,\"657\":1,\"2253\":1,\"5023\":1,\"1201\":1,\"1169\":1,\"1197\":1,\"1202\":1,\"536\":1,\"1492\":1,\"2248\":1,\"386\":1,\"7038\":1,\"6239\":1,\"4556\":1,\"1740\":1,\"2252\":1},6,\"1827-673-6989-1398-6875-657-6001\",\"V\"]\r\n",
      "6002\t[{\"1199\":1,\"5088\":1,\"657\":1,\"2253\":1,\"1201\":1,\"1169\":1,\"1197\":1,\"1202\":1,\"536\":1,\"1492\":1,\"2248\":1,\"386\":1,\"4556\":1,\"6239\":1,\"1740\":1,\"2252\":1},6,\"1827-673-6989-1398-6875-657-6002\",\"V\"]\r\n",
      "\r\n",
      "==> ./largest-synnet-result/part-00024 <==\r\n",
      "625\t[{\"5341\":1,\"3374\":1,\"617\":1,\"614\":1,\"615\":1,\"5335\":1,\"5336\":1},5,\"1827-673-5120-317-5335-625\",\"V\"]\r\n",
      "6250\t[{\"103\":1,\"6251\":1,\"3846\":1},6,\"1827-673-1823-3892-95-103-6250\",\"V\"]\r\n",
      "6251\t[{\"6458\":1,\"6250\":1},7,\"1827-673-1823-3892-95-103-6250-6251\",\"V\"]\r\n",
      "6252\t[{\"6253\":1},9,\"1827-673-1826-4817-1111-2085-500-503-6253-6252\",\"V\"]\r\n",
      "6253\t[{\"5700\":1,\"7857\":1,\"6252\":1,\"5699\":1,\"2161\":1,\"503\":1,\"7670\":1},8,\"1827-673-1826-4817-1111-2085-500-503-6253\",\"V\"]\r\n",
      "6254\t[{\"6264\":1,\"6262\":1,\"6263\":1,\"6260\":1,\"6261\":1,\"713\":1,\"2223\":1,\"6259\":1,\"6258\":1,\"5334\":1,\"6257\":1,\"6256\":1,\"6255\":1},7,\"1827-673-1826-4817-1399-4863-2223-6254\",\"V\"]\r\n",
      "6255\t[{\"713\":1,\"2223\":1,\"6260\":1,\"6254\":1},7,\"1827-673-1826-4817-1399-4863-2223-6255\",\"V\"]\r\n",
      "6256\t[{\"2224\":1,\"2223\":1,\"6254\":1},6,\"1827-673-1826-4817-1399-2224-6256\",\"V\"]\r\n",
      "6257\t[{\"2224\":1,\"2223\":1,\"6254\":1},6,\"1827-673-1826-4817-1399-2224-6257\",\"V\"]\r\n",
      "6258\t[{\"6259\":1,\"6254\":1,\"7500\":1,\"6263\":1,\"6264\":1},8,\"1827-673-1826-4817-1697-6540-7912-7500-6258\",\"V\"]\r\n",
      "\r\n",
      "==> ./largest-synnet-result/part-00025 <==\r\n",
      "65\t[{\"59\":1,\"6718\":1,\"60\":1,\"5467\":1,\"83\":1,\"6717\":1,\"84\":1},6,\"1827-673-678-814-67-83-65\",\"V\"]\r\n",
      "650\t[{\"649\":1},9223372036854775807,\"undefined\",\"U\"]\r\n",
      "6500\t[{\"6499\":1},9223372036854775807,\"undefined\",\"U\"]\r\n",
      "6501\t[{\"4026\":1},8,\"1827-673-1826-4817-1697-3525-4025-4026-6501\",\"V\"]\r\n",
      "6502\t[{\"3526\":1,\"3525\":1,\"4205\":1},6,\"1827-673-1826-4817-1697-3525-6502\",\"V\"]\r\n",
      "6503\t[{\"1186\":1,\"1187\":1,\"1188\":1,\"1189\":1},7,\"1827-673-6989-1398-405-974-1187-6503\",\"V\"]\r\n",
      "6504\t[{\"1186\":1,\"1187\":1,\"2078\":1,\"1188\":1},7,\"1827-673-6989-1398-405-658-2078-6504\",\"V\"]\r\n",
      "6505\t[{\"1186\":1,\"1193\":1,\"1189\":1},8,\"1827-673-6989-1398-405-974-1187-1186-6505\",\"V\"]\r\n",
      "6506\t[{\"6228\":1,\"6508\":1,\"6507\":1},9,\"1827-673-669-1267-1274-2117-2121-4169-6228-6506\",\"V\"]\r\n",
      "6507\t[{\"6228\":1,\"6506\":1},9,\"1827-673-669-1267-1274-2117-2121-4169-6228-6507\",\"V\"]\r\n",
      "\r\n",
      "==> ./largest-synnet-result/part-00026 <==\r\n",
      "6758\t[{\"2864\":1,\"2846\":1,\"1472\":1,\"2109\":1,\"1377\":1,\"376\":1},6,\"1827-673-5120-317-2727-1377-6758\",\"V\"]\r\n",
      "6759\t[{\"1573\":1,\"6684\":1,\"1984\":1,\"5304\":1,\"5774\":1},7,\"1827-673-5120-317-2727-2724-6684-6759\",\"V\"]\r\n",
      "676\t[{\"5397\":1,\"667\":1,\"666\":1,\"665\":1,\"1821\":1,\"671\":1,\"673\":1,\"685\":1,\"2353\":1,\"686\":1,\"5399\":1,\"3968\":1},2,\"1827-673-676\",\"V\"]\r\n",
      "6760\t[{\"2514\":1,\"2512\":1,\"2511\":1,\"265\":1,\"2513\":1},6,\"1827-673-6989-318-2218-265-6760\",\"V\"]\r\n",
      "6761\t[{\"5195\":1,\"5194\":1,\"1732\":1,\"936\":1,\"822\":1},4,\"1827-673-678-822-6761\",\"V\"]\r\n",
      "6762\t[{\"4019\":1},4,\"1827-673-678-4019-6762\",\"V\"]\r\n",
      "6763\t[{\"5567\":1,\"503\":1},7,\"1827-673-677-2320-158-6153-5567-6763\",\"V\"]\r\n",
      "6764\t[{\"6765\":1},9223372036854775807,\"undefined\",\"U\"]\r\n",
      "6765\t[{\"6764\":1},9223372036854775807,\"undefined\",\"U\"]\r\n",
      "6766\t[{\"6767\":1},9223372036854775807,\"undefined\",\"U\"]\r\n",
      "\r\n",
      "==> ./largest-synnet-result/part-00027 <==\r\n",
      "7036\t[{\"1199\":1,\"4435\":1,\"4631\":1,\"2534\":1,\"7037\":1},6,\"1827-673-5120-317-1328-4631-7036\",\"V\"]\r\n",
      "7037\t[{\"1199\":1,\"4435\":1,\"7036\":1,\"2534\":1},6,\"1827-673-5120-317-1327-2534-7037\",\"V\"]\r\n",
      "7038\t[{\"5587\":1,\"6001\":1,\"1169\":1,\"8052\":1},7,\"1827-673-6989-1398-6875-657-6001-7038\",\"V\"]\r\n",
      "7039\t[{\"1427\":1},7,\"1827-673-678-814-275-819-1427-7039\",\"V\"]\r\n",
      "704\t[{\"7078\":1,\"1554\":1,\"694\":1,\"772\":1,\"1556\":1,\"4180\":1,\"706\":1,\"5578\":1,\"5455\":1,\"6516\":1,\"4113\":1,\"770\":1,\"7689\":1,\"697\":1},7,\"1827-673-1823-3892-95-3275-5578-704\",\"V\"]\r\n",
      "7040\t[{\"6907\":1,\"6906\":1},8,\"1827-673-678-814-816-5689-6956-6906-7040\",\"V\"]\r\n",
      "7041\t[{\"1366\":1,\"4272\":1,\"6343\":1,\"7867\":1,\"7868\":1},6,\"1827-673-669-1268-3701-1366-7041\",\"V\"]\r\n",
      "7042\t[{\"6994\":1,\"7043\":1},7,\"1827-673-678-814-816-5689-6994-7042\",\"V\"]\r\n",
      "7043\t[{\"6994\":1,\"7042\":1,\"6992\":1,\"6956\":1,\"6993\":1},7,\"1827-673-678-814-816-5689-6956-7043\",\"V\"]\r\n",
      "7044\t[{\"6609\":1,\"5015\":1,\"7054\":1},8,\"1827-673-5120-317-1602-660-632-5015-7044\",\"V\"]\r\n",
      "\r\n",
      "==> ./largest-synnet-result/part-00028 <==\r\n",
      "7315\t[{\"7314\":1,\"7313\":1},9223372036854775807,\"undefined\",\"U\"]\r\n",
      "7316\t[{\"2262\":1},9,\"1827-673-678-814-67-3759-2266-2259-2262-7316\",\"V\"]\r\n",
      "7317\t[{\"5614\":1,\"7319\":1,\"7318\":1,\"5113\":1,\"5112\":1},7,\"1827-673-677-2320-158-6953-5614-7317\",\"V\"]\r\n",
      "7318\t[{\"7317\":1,\"7319\":1,\"5614\":1,\"5113\":1,\"5112\":1},7,\"1827-673-677-2320-158-6953-5614-7318\",\"V\"]\r\n",
      "7319\t[{\"964\":1,\"8086\":1,\"8087\":1,\"7318\":1,\"7317\":1,\"5614\":1,\"7484\":1},7,\"1827-673-1826-4817-89-909-964-7319\",\"V\"]\r\n",
      "732\t[{\"604\":1,\"2238\":1,\"2300\":1,\"733\":1,\"730\":1,\"1931\":1,\"1930\":1,\"2745\":1,\"734\":1,\"729\":1},7,\"1827-673-1826-4817-89-909-734-732\",\"V\"]\r\n",
      "7320\t[{\"7321\":1},9223372036854775807,\"undefined\",\"U\"]\r\n",
      "7321\t[{\"7320\":1},9223372036854775807,\"undefined\",\"U\"]\r\n",
      "7322\t[{\"7324\":1,\"7325\":1,\"7326\":1,\"7323\":1,\"6113\":1,\"5127\":1,\"4205\":1},6,\"1827-673-6989-2216-7736-6113-7322\",\"V\"]\r\n",
      "7323\t[{\"7324\":1,\"4205\":1,\"7322\":1,\"6113\":1},6,\"1827-673-6989-2216-7736-6113-7323\",\"V\"]\r\n",
      "\r\n",
      "==> ./largest-synnet-result/part-00029 <==\r\n",
      "7653\t[{\"7654\":1,\"7294\":1,\"7655\":1,\"1608\":1},8,\"1827-673-6989-318-967-960-2794-7294-7653\",\"V\"]\r\n",
      "7654\t[{\"1608\":1,\"7119\":1,\"7653\":1,\"7294\":1,\"7655\":1},8,\"1827-673-6989-318-967-960-2794-7294-7654\",\"V\"]\r\n",
      "7655\t[{\"1608\":1,\"7119\":1,\"7653\":1,\"7654\":1},8,\"1827-673-1823-3892-95-3194-3193-1608-7655\",\"V\"]\r\n",
      "7656\t[{\"7267\":1,\"6141\":1,\"6140\":1,\"7657\":1,\"7658\":1,\"7659\":1,\"7660\":1},7,\"1827-673-666-5398-5814-4971-7267-7656\",\"V\"]\r\n",
      "7657\t[{\"7660\":1,\"7656\":1,\"7811\":1},8,\"1827-673-666-5398-5814-4971-7267-7656-7657\",\"V\"]\r\n",
      "7658\t[{\"7659\":1,\"6141\":1,\"6140\":1,\"7267\":1,\"7656\":1},7,\"1827-673-666-5398-5814-4971-7267-7658\",\"V\"]\r\n",
      "7659\t[{\"7658\":1,\"6140\":1,\"7656\":1},8,\"1827-673-666-5398-5814-4971-7267-6140-7659\",\"V\"]\r\n",
      "766\t[{\"5115\":1,\"5362\":1,\"5117\":1,\"5116\":1,\"772\":1,\"763\":1,\"5578\":1,\"5573\":1,\"765\":1,\"524\":1,\"4774\":1,\"5574\":1},7,\"1827-673-5120-317-2727-2730-4774-766\",\"V\"]\r\n",
      "7660\t[{\"7811\":1,\"7656\":1,\"7657\":1},8,\"1827-673-666-5398-5814-4971-7267-7656-7660\",\"V\"]\r\n",
      "7661\t[{\"7662\":1},9223372036854775807,\"undefined\",\"U\"]\r\n",
      "\r\n",
      "==> ./largest-synnet-result/part-00030 <==\r\n",
      "7999\t[{\"7998\":1},9223372036854775807,\"undefined\",\"U\"]\r\n",
      "8\t[{\"9\":1,\"7\":1},7,\"1827-673-669-1270-6581-1316-9-8\",\"V\"]\r\n",
      "80\t[{\"889\":1,\"3650\":1,\"2340\":1,\"4530\":1,\"4531\":1,\"4532\":1,\"79\":1,\"78\":1,\"76\":1,\"75\":1,\"74\":1,\"3649\":1,\"3646\":1,\"7005\":1,\"7004\":1,\"7007\":1,\"7006\":1,\"2332\":1,\"2336\":1,\"7008\":1,\"2338\":1,\"2339\":1},6,\"1827-673-669-1270-3655-889-80\",\"V\"]\r\n",
      "800\t[{\"799\":1},9223372036854775807,\"undefined\",\"U\"]\r\n",
      "8000\t[{\"2979\":1,\"8001\":1},8,\"1827-673-1823-3892-95-2920-4148-8001-8000\",\"V\"]\r\n",
      "8001\t[{\"8000\":1,\"2979\":1,\"1201\":1,\"4148\":1,\"8030\":1},7,\"1827-673-1823-3892-95-2920-4148-8001\",\"V\"]\r\n",
      "8002\t[{\"8003\":1},9223372036854775807,\"undefined\",\"U\"]\r\n",
      "8003\t[{\"8002\":1},9223372036854775807,\"undefined\",\"U\"]\r\n",
      "8004\t[{\"1429\":1,\"6031\":1},6,\"1827-673-669-1270-5894-1429-8004\",\"V\"]\r\n",
      "8005\t[{\"6555\":1},8,\"1827-673-6989-318-967-6553-6550-6555-8005\",\"V\"]\r\n",
      "\r\n",
      "==> ./largest-synnet-result/part-00031 <==\r\n",
      "871\t[{\"872\":1,\"873\":1},7,\"1827-673-1826-4817-89-1426-872-871\",\"V\"]\r\n",
      "872\t[{\"1426\":1,\"873\":1,\"711\":1,\"871\":1,\"5734\":1,\"179\":1,\"5732\":1},6,\"1827-673-1826-4817-89-1426-872\",\"V\"]\r\n",
      "873\t[{\"5734\":1,\"872\":1,\"871\":1},7,\"1827-673-1826-4817-89-1426-872-873\",\"V\"]\r\n",
      "874\t[{\"876\":1,\"875\":1},9223372036854775807,\"undefined\",\"U\"]\r\n",
      "875\t[{\"876\":1,\"874\":1},9223372036854775807,\"undefined\",\"U\"]\r\n",
      "876\t[{\"874\":1,\"875\":1},9223372036854775807,\"undefined\",\"U\"]\r\n",
      "877\t[{\"878\":1},9223372036854775807,\"undefined\",\"U\"]\r\n",
      "878\t[{\"877\":1,\"5737\":1,\"879\":1},9223372036854775807,\"undefined\",\"U\"]\r\n",
      "879\t[{\"878\":1},9223372036854775807,\"undefined\",\"U\"]\r\n",
      "88\t[{\"3494\":1,\"3495\":1,\"3493\":1,\"89\":1,\"3272\":1,\"3270\":1,\"3271\":1,\"91\":1,\"90\":1,\"86\":1,\"87\":1,\"85\":1},5,\"1827-673-1826-4817-89-88\",\"V\"]\r\n",
      "\r\n",
      "==> ./largest-synnet-result/part-00032 <==\r\n"
     ]
    }
   ],
   "source": [
    "!head ./largest-synnet-result/*"
   ]
  },
  {
   "cell_type": "markdown",
   "metadata": {},
   "source": [
    "<h1 style=\"color:#021353;\">HW 7.7: Bellman–Ford: OPTIONAL </h1>\n",
    "<div style=\"margin:10px;border-left:5px solid #eee;\">\n",
    "<pre style=\"font-family:sans-serif;background-color:transparent\">\n",
    "Using MRJob, implement Bellman–Ford algorithm https://en.wikipedia.org/wiki/Bellman%E2%80%93Ford_algorithm. Generate a toy graph with negaitve edges and calculate shortest path from some source to some target within your graph.\n",
    "</pre>\n",
    "</div>"
   ]
  },
  {
   "cell_type": "markdown",
   "metadata": {},
   "source": [
    "The weighted networkgraph will go through all of the edges at least v-1 times first and then go through the network again to make sure all all shortest path is returned. See below how distance of node 3 has changed from 1 to -2."
   ]
  },
  {
   "cell_type": "code",
   "execution_count": 2,
   "metadata": {
    "collapsed": false
   },
   "outputs": [
    {
     "name": "stdout",
     "output_type": "stream",
     "text": [
      "Overwriting negative_graph.txt\n"
     ]
    }
   ],
   "source": [
    "%%writefile negative_graph.txt\n",
    "0\t{1: -1, 2: 4}\n",
    "1\t{2: 3, 3: 2, 4: 2}\n",
    "3\t{2 : 5, 1: 1}\n",
    "4\t{3 : -3}\n"
   ]
  },
  {
   "cell_type": "code",
   "execution_count": 6,
   "metadata": {
    "collapsed": false
   },
   "outputs": [
    {
     "name": "stdout",
     "output_type": "stream",
     "text": [
      "2 [{}, 4, u'0-2', u'Q']\n",
      "4 [{u'3': -3}, 9223372036854775807L, u'undefined', u'U']\n",
      "1 [{u'3': 2, u'2': 3, u'4': 2}, -1, u'0-1', u'Q']\n",
      "3 [{u'1': 1, u'2': 5}, 9223372036854775807L, u'undefined', u'U']\n",
      "0 [{u'1': -1, u'2': 4}, 0, u'0', u'V']\n",
      "2 [{}, 2, u'0-1-2', u'Q']\n",
      "4 [{u'3': -3}, 1, u'0-1-4', u'Q']\n",
      "1 [{u'3': 2, u'2': 3, u'4': 2}, -1, u'0-1', u'V']\n",
      "3 [{u'1': 1, u'2': 5}, 1, u'0-1-3', u'Q']\n",
      "0 [{u'1': -1, u'2': 4}, 0, u'0', u'V']\n",
      "{u'group': {u'Number_Queue_calls': 2}}\n",
      "====================\n",
      "2 [{}, 2, u'0-1-2', u'V']\n",
      "4 [{u'3': -3}, 1, u'0-1-4', u'V']\n",
      "1 [{u'3': 2, u'2': 3, u'4': 2}, -1, u'0-1', u'V']\n",
      "3 [{u'1': 1, u'2': 5}, -2, u'0-1-4-3', u'Q']\n",
      "0 [{u'1': -1, u'2': 4}, 0, u'0', u'V']\n",
      "{u'group': {u'Number_Queue_calls': 3}}\n",
      "====================\n",
      "2 [{}, 2, u'0-1-2', u'V']\n",
      "4 [{u'3': -3}, 1, u'0-1-4', u'V']\n",
      "1 [{u'3': 2, u'2': 3, u'4': 2}, -1, u'0-1', u'V']\n",
      "3 [{u'1': 1, u'2': 5}, -2, u'0-1-4-3', u'V']\n",
      "0 [{u'1': -1, u'2': 4}, 0, u'0', u'V']\n",
      "{u'group': {u'Number_Queue_calls': 1}}\n",
      "====================\n",
      "2 [{}, 2, u'0-1-2', u'V']\n",
      "4 [{u'3': -3}, 1, u'0-1-4', u'V']\n",
      "1 [{u'3': 2, u'2': 3, u'4': 2}, -1, u'0-1', u'V']\n",
      "3 [{u'1': 1, u'2': 5}, -2, u'0-1-4-3', u'V']\n",
      "0 [{u'1': -1, u'2': 4}, 0, u'0', u'V']\n",
      "{}\n",
      "====================\n",
      "The find is going to stop\n"
     ]
    }
   ],
   "source": [
    "from weightednetworkgraph import weightednetworkgraph\n",
    "input_file  = \"negative_graph.txt\"\n",
    "mr_job = weightednetworkgraph(args=[input_file,'--no-output','--output-dir=bell','--start=0'])\n",
    "with mr_job.make_runner() as runner: \n",
    "    runner.run()\n",
    "    for line in runner.stream_output():\n",
    "        key,value =  mr_job.parse_output_line(line)\n",
    "        print key, value\n",
    "\n",
    "input_file = './bell/*'\n",
    "mr_job = weightednetworkgraph(args=[input_file,'--no-output','--output-dir=bell','--start=9999'])        \n",
    "\n",
    "while(1):\n",
    "    with mr_job.make_runner() as runner: \n",
    "        runner.run()\n",
    "        for line in runner.stream_output():\n",
    "            key,value =  mr_job.parse_output_line(line)\n",
    "            print key, value\n",
    "        print runner.counters()[0]\n",
    "        print \"=\"*20\n",
    "    \n",
    "    if not runner.counters()[0]:\n",
    "        print \"The find is going to stop\"\n",
    "        break"
   ]
  },
  {
   "cell_type": "markdown",
   "metadata": {
    "collapsed": true
   },
   "source": [
    "==================END HW 7=================="
   ]
  }
 ],
 "metadata": {
  "kernelspec": {
   "display_name": "Python [Root]",
   "language": "python",
   "name": "Python [Root]"
  },
  "language_info": {
   "codemirror_mode": {
    "name": "ipython",
    "version": 2
   },
   "file_extension": ".py",
   "mimetype": "text/x-python",
   "name": "python",
   "nbconvert_exporter": "python",
   "pygments_lexer": "ipython2",
   "version": "2.7.13"
  },
  "toc": {
   "nav_menu": {
    "height": "380px",
    "width": "252px"
   },
   "number_sections": true,
   "sideBar": false,
   "skip_h1_title": false,
   "title_cell": "Table of Contents",
   "title_sidebar": "Contents",
   "toc_cell": true,
   "toc_position": {},
   "toc_section_display": false,
   "toc_window_display": true
  }
 },
 "nbformat": 4,
 "nbformat_minor": 1
}
